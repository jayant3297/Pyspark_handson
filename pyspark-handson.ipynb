{
 "cells": [
  {
   "cell_type": "code",
   "execution_count": 1,
   "id": "596f390b",
   "metadata": {
    "_cell_guid": "b1076dfc-b9ad-4769-8c92-a6c4dae69d19",
    "_uuid": "8f2839f25d086af736a60e9eeb907d3b93b6e0e5",
    "execution": {
     "iopub.execute_input": "2023-01-29T15:27:10.056711Z",
     "iopub.status.busy": "2023-01-29T15:27:10.056253Z",
     "iopub.status.idle": "2023-01-29T15:27:10.080958Z",
     "shell.execute_reply": "2023-01-29T15:27:10.079785Z"
    },
    "papermill": {
     "duration": 0.046553,
     "end_time": "2023-01-29T15:27:10.083663",
     "exception": false,
     "start_time": "2023-01-29T15:27:10.037110",
     "status": "completed"
    },
    "tags": []
   },
   "outputs": [
    {
     "name": "stdout",
     "output_type": "stream",
     "text": [
      "/kaggle/input/company-data/department.csv\n",
      "/kaggle/input/company-data/employees.csv\n"
     ]
    }
   ],
   "source": [
    "# This Python 3 environment comes with many helpful analytics libraries installed\n",
    "# It is defined by the kaggle/python Docker image: https://github.com/kaggle/docker-python\n",
    "# For example, here's several helpful packages to load\n",
    "\n",
    "import numpy as np # linear algebra\n",
    "import pandas as pd # data processing, CSV file I/O (e.g. pd.read_csv)\n",
    "\n",
    "# Input data files are available in the read-only \"../input/\" directory\n",
    "# For example, running this (by clicking run or pressing Shift+Enter) will list all files under the input directory\n",
    "\n",
    "import os\n",
    "for dirname, _, filenames in os.walk('/kaggle/input'):\n",
    "    for filename in filenames:\n",
    "        print(os.path.join(dirname, filename))\n",
    "\n",
    "# You can write up to 20GB to the current directory (/kaggle/working/) that gets preserved as output when you create a version using \"Save & Run All\" \n",
    "# You can also write temporary files to /kaggle/temp/, but they won't be saved outside of the current session"
   ]
  },
  {
   "cell_type": "code",
   "execution_count": 2,
   "id": "5f6cadbd",
   "metadata": {
    "execution": {
     "iopub.execute_input": "2023-01-29T15:27:10.119609Z",
     "iopub.status.busy": "2023-01-29T15:27:10.118894Z",
     "iopub.status.idle": "2023-01-29T15:28:04.333853Z",
     "shell.execute_reply": "2023-01-29T15:28:04.332090Z"
    },
    "papermill": {
     "duration": 54.23446,
     "end_time": "2023-01-29T15:28:04.336383",
     "exception": false,
     "start_time": "2023-01-29T15:27:10.101923",
     "status": "completed"
    },
    "tags": []
   },
   "outputs": [
    {
     "name": "stdout",
     "output_type": "stream",
     "text": [
      "Collecting pyspark\r\n",
      "  Downloading pyspark-3.3.1.tar.gz (281.4 MB)\r\n",
      "\u001b[2K     \u001b[90m━━━━━━━━━━━━━━━━━━━━━━━━━━━━━━━━━━━━━━━\u001b[0m \u001b[32m281.4/281.4 MB\u001b[0m \u001b[31m3.6 MB/s\u001b[0m eta \u001b[36m0:00:00\u001b[0m\r\n",
      "\u001b[?25h  Preparing metadata (setup.py) ... \u001b[?25l-\b \bdone\r\n",
      "\u001b[?25hCollecting py4j==0.10.9.5\r\n",
      "  Downloading py4j-0.10.9.5-py2.py3-none-any.whl (199 kB)\r\n",
      "\u001b[2K     \u001b[90m━━━━━━━━━━━━━━━━━━━━━━━━━━━━━━━━━━━━━━\u001b[0m \u001b[32m199.7/199.7 kB\u001b[0m \u001b[31m13.7 MB/s\u001b[0m eta \u001b[36m0:00:00\u001b[0m\r\n",
      "\u001b[?25hBuilding wheels for collected packages: pyspark\r\n",
      "  Building wheel for pyspark (setup.py) ... \u001b[?25l-\b \b\\\b \b|\b \b/\b \b-\b \b\\\b \b|\b \b/\b \b-\b \b\\\b \b|\b \b/\b \b-\b \b\\\b \b|\b \b/\b \b-\b \b\\\b \b|\b \b/\b \b-\b \b\\\b \b|\b \b/\b \b-\b \b\\\b \b|\b \b/\b \b-\b \b\\\b \b|\b \b/\b \b-\b \b\\\b \b|\b \b/\b \b-\b \b\\\b \b|\b \b/\b \b-\b \b\\\b \b|\b \b/\b \b-\b \b\\\b \b|\b \b/\b \b-\b \b\\\b \b|\b \b/\b \b-\b \b\\\b \b|\b \b/\b \b-\b \b\\\b \b|\b \b/\b \bdone\r\n",
      "\u001b[?25h  Created wheel for pyspark: filename=pyspark-3.3.1-py2.py3-none-any.whl size=281845513 sha256=6dafb89e1c7f86999e5a1f65b7b06d0b3768a2fe95631b5d3f68c7966317a169\r\n",
      "  Stored in directory: /root/.cache/pip/wheels/42/59/f5/79a5bf931714dcd201b26025347785f087370a10a3329a899c\r\n",
      "Successfully built pyspark\r\n",
      "Installing collected packages: py4j, pyspark\r\n",
      "  Attempting uninstall: py4j\r\n",
      "    Found existing installation: py4j 0.10.9.7\r\n",
      "    Uninstalling py4j-0.10.9.7:\r\n",
      "      Successfully uninstalled py4j-0.10.9.7\r\n",
      "Successfully installed py4j-0.10.9.5 pyspark-3.3.1\r\n",
      "\u001b[33mWARNING: Running pip as the 'root' user can result in broken permissions and conflicting behaviour with the system package manager. It is recommended to use a virtual environment instead: https://pip.pypa.io/warnings/venv\u001b[0m\u001b[33m\r\n",
      "\u001b[0mNote: you may need to restart the kernel to use updated packages.\n"
     ]
    }
   ],
   "source": [
    "pip install pyspark"
   ]
  },
  {
   "cell_type": "code",
   "execution_count": 3,
   "id": "d9214b28",
   "metadata": {
    "execution": {
     "iopub.execute_input": "2023-01-29T15:28:04.406176Z",
     "iopub.status.busy": "2023-01-29T15:28:04.405739Z",
     "iopub.status.idle": "2023-01-29T15:28:04.463859Z",
     "shell.execute_reply": "2023-01-29T15:28:04.462732Z"
    },
    "papermill": {
     "duration": 0.096202,
     "end_time": "2023-01-29T15:28:04.466615",
     "exception": false,
     "start_time": "2023-01-29T15:28:04.370413",
     "status": "completed"
    },
    "tags": []
   },
   "outputs": [],
   "source": [
    "from pyspark.sql import SparkSession"
   ]
  },
  {
   "cell_type": "code",
   "execution_count": 4,
   "id": "593ee663",
   "metadata": {
    "execution": {
     "iopub.execute_input": "2023-01-29T15:28:04.534247Z",
     "iopub.status.busy": "2023-01-29T15:28:04.533798Z",
     "iopub.status.idle": "2023-01-29T15:28:10.221182Z",
     "shell.execute_reply": "2023-01-29T15:28:10.220116Z"
    },
    "papermill": {
     "duration": 5.726392,
     "end_time": "2023-01-29T15:28:10.225655",
     "exception": false,
     "start_time": "2023-01-29T15:28:04.499263",
     "status": "completed"
    },
    "tags": []
   },
   "outputs": [
    {
     "name": "stderr",
     "output_type": "stream",
     "text": [
      "Setting default log level to \"WARN\".\n",
      "To adjust logging level use sc.setLogLevel(newLevel). For SparkR, use setLogLevel(newLevel).\n"
     ]
    },
    {
     "name": "stdout",
     "output_type": "stream",
     "text": [
      "23/01/29 15:28:08 WARN NativeCodeLoader: Unable to load native-hadoop library for your platform... using builtin-java classes where applicable\n"
     ]
    }
   ],
   "source": [
    "spark = SparkSession.builder.appName('hands_on').getOrCreate()"
   ]
  },
  {
   "cell_type": "code",
   "execution_count": 5,
   "id": "1da505fd",
   "metadata": {
    "execution": {
     "iopub.execute_input": "2023-01-29T15:28:10.294065Z",
     "iopub.status.busy": "2023-01-29T15:28:10.293621Z",
     "iopub.status.idle": "2023-01-29T15:28:10.299477Z",
     "shell.execute_reply": "2023-01-29T15:28:10.298237Z"
    },
    "papermill": {
     "duration": 0.042479,
     "end_time": "2023-01-29T15:28:10.301937",
     "exception": false,
     "start_time": "2023-01-29T15:28:10.259458",
     "status": "completed"
    },
    "tags": []
   },
   "outputs": [],
   "source": [
    "from pyspark.sql.types import StructType,StructField, StringType, IntegerType"
   ]
  },
  {
   "cell_type": "code",
   "execution_count": 6,
   "id": "0d445dbc",
   "metadata": {
    "execution": {
     "iopub.execute_input": "2023-01-29T15:28:10.368988Z",
     "iopub.status.busy": "2023-01-29T15:28:10.368618Z",
     "iopub.status.idle": "2023-01-29T15:28:10.374612Z",
     "shell.execute_reply": "2023-01-29T15:28:10.373518Z"
    },
    "papermill": {
     "duration": 0.042615,
     "end_time": "2023-01-29T15:28:10.376979",
     "exception": false,
     "start_time": "2023-01-29T15:28:10.334364",
     "status": "completed"
    },
    "tags": []
   },
   "outputs": [],
   "source": [
    "person_list = [(\"Berry\",\"\",\"Allen\",1,\"M\"),\n",
    "        (\"Oliver\",\"Queen\",\"\",2,\"M\"),\n",
    "        (\"Robert\",\"\",\"Williams\",3,\"M\"),\n",
    "        (\"Tony\",\"\",\"Stark\",4,\"F\"),\n",
    "        (\"Rajiv\",\"Mary\",\"Kumar\",5,\"F\")]"
   ]
  },
  {
   "cell_type": "code",
   "execution_count": 7,
   "id": "cca772e0",
   "metadata": {
    "execution": {
     "iopub.execute_input": "2023-01-29T15:28:10.443893Z",
     "iopub.status.busy": "2023-01-29T15:28:10.443514Z",
     "iopub.status.idle": "2023-01-29T15:28:10.449082Z",
     "shell.execute_reply": "2023-01-29T15:28:10.448086Z"
    },
    "papermill": {
     "duration": 0.042048,
     "end_time": "2023-01-29T15:28:10.451426",
     "exception": false,
     "start_time": "2023-01-29T15:28:10.409378",
     "status": "completed"
    },
    "tags": []
   },
   "outputs": [],
   "source": [
    "schema = StructType([ \\\n",
    "        StructField(\"firstname\",StringType(),True), \\\n",
    "        StructField(\"middlename\",StringType(),True), \\\n",
    "        StructField(\"lastname\",StringType(),True), \\\n",
    "        StructField(\"id\", IntegerType(), True), \\\n",
    "        StructField(\"gender\", StringType(), True)])\n",
    " "
   ]
  },
  {
   "cell_type": "code",
   "execution_count": 8,
   "id": "891cd6b9",
   "metadata": {
    "execution": {
     "iopub.execute_input": "2023-01-29T15:28:10.518133Z",
     "iopub.status.busy": "2023-01-29T15:28:10.517755Z",
     "iopub.status.idle": "2023-01-29T15:28:17.074869Z",
     "shell.execute_reply": "2023-01-29T15:28:17.072299Z"
    },
    "papermill": {
     "duration": 6.595327,
     "end_time": "2023-01-29T15:28:17.079114",
     "exception": false,
     "start_time": "2023-01-29T15:28:10.483787",
     "status": "completed"
    },
    "tags": []
   },
   "outputs": [
    {
     "name": "stderr",
     "output_type": "stream",
     "text": [
      "                                                                                \r"
     ]
    },
    {
     "name": "stdout",
     "output_type": "stream",
     "text": [
      "+---------+----------+--------+---+------+\n",
      "|firstname|middlename|lastname|id |gender|\n",
      "+---------+----------+--------+---+------+\n",
      "|Berry    |          |Allen   |1  |M     |\n",
      "|Oliver   |Queen     |        |2  |M     |\n",
      "|Robert   |          |Williams|3  |M     |\n",
      "|Tony     |          |Stark   |4  |F     |\n",
      "|Rajiv    |Mary      |Kumar   |5  |F     |\n",
      "+---------+----------+--------+---+------+\n",
      "\n"
     ]
    }
   ],
   "source": [
    " df = spark.createDataFrame(data=person_list,schema=schema)\n",
    " \n",
    " df.show(truncate=False)\n",
    " \n"
   ]
  },
  {
   "cell_type": "code",
   "execution_count": 9,
   "id": "4f112d2c",
   "metadata": {
    "execution": {
     "iopub.execute_input": "2023-01-29T15:28:17.156154Z",
     "iopub.status.busy": "2023-01-29T15:28:17.155661Z",
     "iopub.status.idle": "2023-01-29T15:28:17.173013Z",
     "shell.execute_reply": "2023-01-29T15:28:17.171695Z"
    },
    "papermill": {
     "duration": 0.055394,
     "end_time": "2023-01-29T15:28:17.176221",
     "exception": false,
     "start_time": "2023-01-29T15:28:17.120827",
     "status": "completed"
    },
    "tags": []
   },
   "outputs": [
    {
     "name": "stdout",
     "output_type": "stream",
     "text": [
      "root\n",
      " |-- firstname: string (nullable = true)\n",
      " |-- middlename: string (nullable = true)\n",
      " |-- lastname: string (nullable = true)\n",
      " |-- id: integer (nullable = true)\n",
      " |-- gender: string (nullable = true)\n",
      "\n"
     ]
    }
   ],
   "source": [
    "df.printSchema()"
   ]
  },
  {
   "cell_type": "code",
   "execution_count": 10,
   "id": "a4f25044",
   "metadata": {
    "execution": {
     "iopub.execute_input": "2023-01-29T15:28:17.279594Z",
     "iopub.status.busy": "2023-01-29T15:28:17.278577Z",
     "iopub.status.idle": "2023-01-29T15:28:18.442760Z",
     "shell.execute_reply": "2023-01-29T15:28:18.441628Z"
    },
    "papermill": {
     "duration": 1.220538,
     "end_time": "2023-01-29T15:28:18.448399",
     "exception": false,
     "start_time": "2023-01-29T15:28:17.227861",
     "status": "completed"
    },
    "tags": []
   },
   "outputs": [
    {
     "name": "stdout",
     "output_type": "stream",
     "text": [
      "root\n",
      " |-- DEPARTMENT_ID: string (nullable = true)\n",
      " |-- DEPARTMENT_NAME: string (nullable = true)\n",
      " |-- MANAGER_ID: string (nullable = true)\n",
      " |-- LOCATION_ID: string (nullable = true)\n",
      "\n"
     ]
    }
   ],
   "source": [
    "deptdf= spark.read.option(\"header\",True).csv(\"/kaggle/input/company-data/department.csv\")\n",
    "deptdf.printSchema()"
   ]
  },
  {
   "cell_type": "code",
   "execution_count": 11,
   "id": "4eb41fed",
   "metadata": {
    "execution": {
     "iopub.execute_input": "2023-01-29T15:28:18.517820Z",
     "iopub.status.busy": "2023-01-29T15:28:18.517170Z",
     "iopub.status.idle": "2023-01-29T15:28:18.744117Z",
     "shell.execute_reply": "2023-01-29T15:28:18.741950Z"
    },
    "papermill": {
     "duration": 0.264351,
     "end_time": "2023-01-29T15:28:18.747784",
     "exception": false,
     "start_time": "2023-01-29T15:28:18.483433",
     "status": "completed"
    },
    "tags": []
   },
   "outputs": [
    {
     "name": "stdout",
     "output_type": "stream",
     "text": [
      "+-------------+--------------------+----------+-----------+\n",
      "|DEPARTMENT_ID|     DEPARTMENT_NAME|MANAGER_ID|LOCATION_ID|\n",
      "+-------------+--------------------+----------+-----------+\n",
      "|           10|      Administration|       200|       1700|\n",
      "|           20|           Marketing|       201|       1800|\n",
      "|           30|          Purchasing|       114|       1700|\n",
      "|           40|     Human Resources|       203|       2400|\n",
      "|           50|            Shipping|       121|       1500|\n",
      "|           60|                  IT|       103|       1400|\n",
      "|           70|    Public Relations|       204|       2700|\n",
      "|           80|               Sales|       145|       2500|\n",
      "|           90|           Executive|       100|       1700|\n",
      "|          100|             Finance|       108|       1700|\n",
      "|          110|          Accounting|       205|       1700|\n",
      "|          120|            Treasury|        - |       1700|\n",
      "|          130|       Corporate Tax|        - |       1700|\n",
      "|          140|  Control And Credit|        - |       1700|\n",
      "|          150|Shareholder Services|        - |       1700|\n",
      "|          160|            Benefits|        - |       1700|\n",
      "|          170|       Manufacturing|        - |       1700|\n",
      "|          180|        Construction|        - |       1700|\n",
      "|          190|         Contracting|        - |       1700|\n",
      "|          200|          Operations|        - |       1700|\n",
      "+-------------+--------------------+----------+-----------+\n",
      "only showing top 20 rows\n",
      "\n"
     ]
    }
   ],
   "source": [
    "deptdf.show()"
   ]
  },
  {
   "cell_type": "code",
   "execution_count": 12,
   "id": "6636ca82",
   "metadata": {
    "execution": {
     "iopub.execute_input": "2023-01-29T15:28:18.849615Z",
     "iopub.status.busy": "2023-01-29T15:28:18.848779Z",
     "iopub.status.idle": "2023-01-29T15:28:19.383517Z",
     "shell.execute_reply": "2023-01-29T15:28:19.382257Z"
    },
    "papermill": {
     "duration": 0.589557,
     "end_time": "2023-01-29T15:28:19.386993",
     "exception": false,
     "start_time": "2023-01-29T15:28:18.797436",
     "status": "completed"
    },
    "tags": []
   },
   "outputs": [
    {
     "name": "stdout",
     "output_type": "stream",
     "text": [
      "root\n",
      " |-- EMPLOYEE_ID: integer (nullable = true)\n",
      " |-- FIRST_NAME: string (nullable = true)\n",
      " |-- LAST_NAME: string (nullable = true)\n",
      " |-- EMAIL: string (nullable = true)\n",
      " |-- PHONE_NUMBER: string (nullable = true)\n",
      " |-- HIRE_DATE: string (nullable = true)\n",
      " |-- JOB_ID: string (nullable = true)\n",
      " |-- SALARY: integer (nullable = true)\n",
      " |-- COMMISSION_PCT: string (nullable = true)\n",
      " |-- MANAGER_ID: string (nullable = true)\n",
      " |-- DEPARTMENT_ID: integer (nullable = true)\n",
      "\n"
     ]
    }
   ],
   "source": [
    "\n",
    "empdf = spark.read.option(\"header\",True).option(\"inferSchema\",True).csv(\"/kaggle/input/company-data/employees.csv\")\n",
    "empdf.printSchema()"
   ]
  },
  {
   "cell_type": "code",
   "execution_count": 13,
   "id": "625d45db",
   "metadata": {
    "execution": {
     "iopub.execute_input": "2023-01-29T15:28:19.456178Z",
     "iopub.status.busy": "2023-01-29T15:28:19.455525Z",
     "iopub.status.idle": "2023-01-29T15:28:19.765733Z",
     "shell.execute_reply": "2023-01-29T15:28:19.763158Z"
    },
    "papermill": {
     "duration": 0.349644,
     "end_time": "2023-01-29T15:28:19.770374",
     "exception": false,
     "start_time": "2023-01-29T15:28:19.420730",
     "status": "completed"
    },
    "tags": []
   },
   "outputs": [
    {
     "name": "stdout",
     "output_type": "stream",
     "text": [
      "+-----------+----------+---------+--------+------------+---------+----------+------+--------------+----------+-------------+\n",
      "|EMPLOYEE_ID|FIRST_NAME|LAST_NAME|   EMAIL|PHONE_NUMBER|HIRE_DATE|    JOB_ID|SALARY|COMMISSION_PCT|MANAGER_ID|DEPARTMENT_ID|\n",
      "+-----------+----------+---------+--------+------------+---------+----------+------+--------------+----------+-------------+\n",
      "|        198|    Donald| OConnell|DOCONNEL|650.507.9833|21-JUN-07|  SH_CLERK|  2600|            - |       124|           50|\n",
      "|        199|   Douglas|    Grant|  DGRANT|650.507.9844|13-JAN-08|  SH_CLERK|  2600|            - |       124|           50|\n",
      "|        200|  Jennifer|   Whalen| JWHALEN|515.123.4444|17-SEP-03|   AD_ASST|  4400|            - |       101|           10|\n",
      "|        201|   Michael|Hartstein|MHARTSTE|515.123.5555|17-FEB-04|    MK_MAN| 13000|            - |       100|           20|\n",
      "|        202|       Pat|      Fay|    PFAY|603.123.6666|17-AUG-05|    MK_REP|  6000|            - |       201|           20|\n",
      "|        203|     Susan|   Mavris| SMAVRIS|515.123.7777|07-JUN-02|    HR_REP|  6500|            - |       101|           40|\n",
      "|        204|   Hermann|     Baer|   HBAER|515.123.8888|07-JUN-02|    PR_REP| 10000|            - |       101|           70|\n",
      "|        205|   Shelley|  Higgins|SHIGGINS|515.123.8080|07-JUN-02|    AC_MGR| 12008|            - |       101|          110|\n",
      "|        206|   William|    Gietz|  WGIETZ|515.123.8181|07-JUN-02|AC_ACCOUNT|  8300|            - |       205|          110|\n",
      "|        100|    Steven|     King|   SKING|515.123.4567|17-JUN-03|   AD_PRES| 24000|            - |        - |           90|\n",
      "|        101|     Neena|  Kochhar|NKOCHHAR|515.123.4568|21-SEP-05|     AD_VP| 17000|            - |       100|           90|\n",
      "|        102|       Lex|  De Haan| LDEHAAN|515.123.4569|13-JAN-01|     AD_VP| 17000|            - |       100|           90|\n",
      "|        103| Alexander|   Hunold| AHUNOLD|590.423.4567|03-JAN-06|   IT_PROG|  9000|            - |       102|           60|\n",
      "|        104|     Bruce|    Ernst|  BERNST|590.423.4568|21-MAY-07|   IT_PROG|  6000|            - |       103|           60|\n",
      "|        105|     David|   Austin| DAUSTIN|590.423.4569|25-JUN-05|   IT_PROG|  4800|            - |       103|           60|\n",
      "|        106|     Valli|Pataballa|VPATABAL|590.423.4560|05-FEB-06|   IT_PROG|  4800|            - |       103|           60|\n",
      "|        107|     Diana|  Lorentz|DLORENTZ|590.423.5567|07-FEB-07|   IT_PROG|  4200|            - |       103|           60|\n",
      "|        108|     Nancy|Greenberg|NGREENBE|515.124.4569|17-AUG-02|    FI_MGR| 12008|            - |       101|          100|\n",
      "|        109|    Daniel|   Faviet| DFAVIET|515.124.4169|16-AUG-02|FI_ACCOUNT|  9000|            - |       108|          100|\n",
      "|        110|      John|     Chen|   JCHEN|515.124.4269|28-SEP-05|FI_ACCOUNT|  8200|            - |       108|          100|\n",
      "+-----------+----------+---------+--------+------------+---------+----------+------+--------------+----------+-------------+\n",
      "only showing top 20 rows\n",
      "\n"
     ]
    }
   ],
   "source": [
    "empdf.show()"
   ]
  },
  {
   "cell_type": "code",
   "execution_count": 14,
   "id": "ccf0be48",
   "metadata": {
    "execution": {
     "iopub.execute_input": "2023-01-29T15:28:19.858633Z",
     "iopub.status.busy": "2023-01-29T15:28:19.858169Z",
     "iopub.status.idle": "2023-01-29T15:28:20.067238Z",
     "shell.execute_reply": "2023-01-29T15:28:20.066278Z"
    },
    "papermill": {
     "duration": 0.247194,
     "end_time": "2023-01-29T15:28:20.069913",
     "exception": false,
     "start_time": "2023-01-29T15:28:19.822719",
     "status": "completed"
    },
    "tags": []
   },
   "outputs": [
    {
     "name": "stdout",
     "output_type": "stream",
     "text": [
      "+-----------+----------+\n",
      "|EMPLOYEE_ID|FIRST_NAME|\n",
      "+-----------+----------+\n",
      "|        198|    Donald|\n",
      "|        199|   Douglas|\n",
      "|        200|  Jennifer|\n",
      "|        201|   Michael|\n",
      "|        202|       Pat|\n",
      "|        203|     Susan|\n",
      "|        204|   Hermann|\n",
      "|        205|   Shelley|\n",
      "|        206|   William|\n",
      "|        100|    Steven|\n",
      "|        101|     Neena|\n",
      "|        102|       Lex|\n",
      "|        103| Alexander|\n",
      "|        104|     Bruce|\n",
      "|        105|     David|\n",
      "|        106|     Valli|\n",
      "|        107|     Diana|\n",
      "|        108|     Nancy|\n",
      "|        109|    Daniel|\n",
      "|        110|      John|\n",
      "+-----------+----------+\n",
      "only showing top 20 rows\n",
      "\n"
     ]
    }
   ],
   "source": [
    "empdf.select(\"EMPLOYEE_ID\",\"FIRST_NAME\").show()"
   ]
  },
  {
   "cell_type": "code",
   "execution_count": 15,
   "id": "0f77c290",
   "metadata": {
    "execution": {
     "iopub.execute_input": "2023-01-29T15:28:20.138958Z",
     "iopub.status.busy": "2023-01-29T15:28:20.138537Z",
     "iopub.status.idle": "2023-01-29T15:28:20.287659Z",
     "shell.execute_reply": "2023-01-29T15:28:20.286466Z"
    },
    "papermill": {
     "duration": 0.188031,
     "end_time": "2023-01-29T15:28:20.291632",
     "exception": false,
     "start_time": "2023-01-29T15:28:20.103601",
     "status": "completed"
    },
    "tags": []
   },
   "outputs": [
    {
     "name": "stdout",
     "output_type": "stream",
     "text": [
      "+-----------+----------+\n",
      "|EMPLOYEE_ID|FIRST_NAME|\n",
      "+-----------+----------+\n",
      "|        198|    Donald|\n",
      "|        199|   Douglas|\n",
      "|        200|  Jennifer|\n",
      "|        201|   Michael|\n",
      "|        202|       Pat|\n",
      "|        203|     Susan|\n",
      "|        204|   Hermann|\n",
      "|        205|   Shelley|\n",
      "|        206|   William|\n",
      "|        100|    Steven|\n",
      "|        101|     Neena|\n",
      "|        102|       Lex|\n",
      "|        103| Alexander|\n",
      "|        104|     Bruce|\n",
      "|        105|     David|\n",
      "|        106|     Valli|\n",
      "|        107|     Diana|\n",
      "|        108|     Nancy|\n",
      "|        109|    Daniel|\n",
      "|        110|      John|\n",
      "+-----------+----------+\n",
      "only showing top 20 rows\n",
      "\n"
     ]
    }
   ],
   "source": [
    "from pyspark.sql.functions import col\n",
    "empdf.select(col(\"EMPLOYEE_ID\"),col(\"FIRST_NAME\")).show()"
   ]
  },
  {
   "cell_type": "code",
   "execution_count": 16,
   "id": "cdbf7b0f",
   "metadata": {
    "execution": {
     "iopub.execute_input": "2023-01-29T15:28:20.365843Z",
     "iopub.status.busy": "2023-01-29T15:28:20.365420Z",
     "iopub.status.idle": "2023-01-29T15:28:20.590047Z",
     "shell.execute_reply": "2023-01-29T15:28:20.588292Z"
    },
    "papermill": {
     "duration": 0.265771,
     "end_time": "2023-01-29T15:28:20.595573",
     "exception": false,
     "start_time": "2023-01-29T15:28:20.329802",
     "status": "completed"
    },
    "tags": []
   },
   "outputs": [
    {
     "name": "stdout",
     "output_type": "stream",
     "text": [
      "+-----------+----------+------+----------+\n",
      "|EMPLOYEE_ID|FIRST_NAME|SALARY|NEW_SALARY|\n",
      "+-----------+----------+------+----------+\n",
      "|        198|    Donald|  2600|      3600|\n",
      "|        199|   Douglas|  2600|      3600|\n",
      "|        200|  Jennifer|  4400|      5400|\n",
      "|        201|   Michael| 13000|     14000|\n",
      "|        202|       Pat|  6000|      7000|\n",
      "|        203|     Susan|  6500|      7500|\n",
      "|        204|   Hermann| 10000|     11000|\n",
      "|        205|   Shelley| 12008|     13008|\n",
      "|        206|   William|  8300|      9300|\n",
      "|        100|    Steven| 24000|     25000|\n",
      "|        101|     Neena| 17000|     18000|\n",
      "|        102|       Lex| 17000|     18000|\n",
      "|        103| Alexander|  9000|     10000|\n",
      "|        104|     Bruce|  6000|      7000|\n",
      "|        105|     David|  4800|      5800|\n",
      "|        106|     Valli|  4800|      5800|\n",
      "|        107|     Diana|  4200|      5200|\n",
      "|        108|     Nancy| 12008|     13008|\n",
      "|        109|    Daniel|  9000|     10000|\n",
      "|        110|      John|  8200|      9200|\n",
      "+-----------+----------+------+----------+\n",
      "only showing top 20 rows\n",
      "\n"
     ]
    }
   ],
   "source": [
    "empdf.select(\"EMPLOYEE_ID\",\"FIRST_NAME\",\"SALARY\").withColumn(\"NEW_SALARY\",col(\"SALARY\")+1000).show()"
   ]
  },
  {
   "cell_type": "code",
   "execution_count": 17,
   "id": "b4848f5b",
   "metadata": {
    "execution": {
     "iopub.execute_input": "2023-01-29T15:28:20.673827Z",
     "iopub.status.busy": "2023-01-29T15:28:20.673407Z",
     "iopub.status.idle": "2023-01-29T15:28:20.894470Z",
     "shell.execute_reply": "2023-01-29T15:28:20.893317Z"
    },
    "papermill": {
     "duration": 0.262838,
     "end_time": "2023-01-29T15:28:20.900485",
     "exception": false,
     "start_time": "2023-01-29T15:28:20.637647",
     "status": "completed"
    },
    "tags": []
   },
   "outputs": [
    {
     "name": "stdout",
     "output_type": "stream",
     "text": [
      "+-----------+----------+------+\n",
      "|EMPLOYEE_ID|FIRST_NAME|SALARY|\n",
      "+-----------+----------+------+\n",
      "|        198|    Donald|  1600|\n",
      "|        199|   Douglas|  1600|\n",
      "|        200|  Jennifer|  3400|\n",
      "|        201|   Michael| 12000|\n",
      "|        202|       Pat|  5000|\n",
      "|        203|     Susan|  5500|\n",
      "|        204|   Hermann|  9000|\n",
      "|        205|   Shelley| 11008|\n",
      "|        206|   William|  7300|\n",
      "|        100|    Steven| 23000|\n",
      "|        101|     Neena| 16000|\n",
      "|        102|       Lex| 16000|\n",
      "|        103| Alexander|  8000|\n",
      "|        104|     Bruce|  5000|\n",
      "|        105|     David|  3800|\n",
      "|        106|     Valli|  3800|\n",
      "|        107|     Diana|  3200|\n",
      "|        108|     Nancy| 11008|\n",
      "|        109|    Daniel|  8000|\n",
      "|        110|      John|  7200|\n",
      "+-----------+----------+------+\n",
      "only showing top 20 rows\n",
      "\n"
     ]
    }
   ],
   "source": [
    "empdf.withColumn(\"SALARY\",col(\"SALARY\") - 1000).select(\"EMPLOYEE_ID\",\"FIRST_NAME\",\"SALARY\").show()"
   ]
  },
  {
   "cell_type": "code",
   "execution_count": 18,
   "id": "e7a24fc0",
   "metadata": {
    "execution": {
     "iopub.execute_input": "2023-01-29T15:28:21.005799Z",
     "iopub.status.busy": "2023-01-29T15:28:21.004180Z",
     "iopub.status.idle": "2023-01-29T15:28:21.231007Z",
     "shell.execute_reply": "2023-01-29T15:28:21.229781Z"
    },
    "papermill": {
     "duration": 0.282139,
     "end_time": "2023-01-29T15:28:21.235125",
     "exception": false,
     "start_time": "2023-01-29T15:28:20.952986",
     "status": "completed"
    },
    "tags": []
   },
   "outputs": [
    {
     "name": "stdout",
     "output_type": "stream",
     "text": [
      "+-----------+----------+---------+--------+------------+---------+----------+----------+--------------+----------+-------------+\n",
      "|EMPLOYEE_ID|FIRST_NAME|LAST_NAME|   EMAIL|PHONE_NUMBER|HIRE_DATE|    JOB_ID|EMP_SALARY|COMMISSION_PCT|MANAGER_ID|DEPARTMENT_ID|\n",
      "+-----------+----------+---------+--------+------------+---------+----------+----------+--------------+----------+-------------+\n",
      "|        198|    Donald| OConnell|DOCONNEL|650.507.9833|21-JUN-07|  SH_CLERK|      2600|            - |       124|           50|\n",
      "|        199|   Douglas|    Grant|  DGRANT|650.507.9844|13-JAN-08|  SH_CLERK|      2600|            - |       124|           50|\n",
      "|        200|  Jennifer|   Whalen| JWHALEN|515.123.4444|17-SEP-03|   AD_ASST|      4400|            - |       101|           10|\n",
      "|        201|   Michael|Hartstein|MHARTSTE|515.123.5555|17-FEB-04|    MK_MAN|     13000|            - |       100|           20|\n",
      "|        202|       Pat|      Fay|    PFAY|603.123.6666|17-AUG-05|    MK_REP|      6000|            - |       201|           20|\n",
      "|        203|     Susan|   Mavris| SMAVRIS|515.123.7777|07-JUN-02|    HR_REP|      6500|            - |       101|           40|\n",
      "|        204|   Hermann|     Baer|   HBAER|515.123.8888|07-JUN-02|    PR_REP|     10000|            - |       101|           70|\n",
      "|        205|   Shelley|  Higgins|SHIGGINS|515.123.8080|07-JUN-02|    AC_MGR|     12008|            - |       101|          110|\n",
      "|        206|   William|    Gietz|  WGIETZ|515.123.8181|07-JUN-02|AC_ACCOUNT|      8300|            - |       205|          110|\n",
      "|        100|    Steven|     King|   SKING|515.123.4567|17-JUN-03|   AD_PRES|     24000|            - |        - |           90|\n",
      "|        101|     Neena|  Kochhar|NKOCHHAR|515.123.4568|21-SEP-05|     AD_VP|     17000|            - |       100|           90|\n",
      "|        102|       Lex|  De Haan| LDEHAAN|515.123.4569|13-JAN-01|     AD_VP|     17000|            - |       100|           90|\n",
      "|        103| Alexander|   Hunold| AHUNOLD|590.423.4567|03-JAN-06|   IT_PROG|      9000|            - |       102|           60|\n",
      "|        104|     Bruce|    Ernst|  BERNST|590.423.4568|21-MAY-07|   IT_PROG|      6000|            - |       103|           60|\n",
      "|        105|     David|   Austin| DAUSTIN|590.423.4569|25-JUN-05|   IT_PROG|      4800|            - |       103|           60|\n",
      "|        106|     Valli|Pataballa|VPATABAL|590.423.4560|05-FEB-06|   IT_PROG|      4800|            - |       103|           60|\n",
      "|        107|     Diana|  Lorentz|DLORENTZ|590.423.5567|07-FEB-07|   IT_PROG|      4200|            - |       103|           60|\n",
      "|        108|     Nancy|Greenberg|NGREENBE|515.124.4569|17-AUG-02|    FI_MGR|     12008|            - |       101|          100|\n",
      "|        109|    Daniel|   Faviet| DFAVIET|515.124.4169|16-AUG-02|FI_ACCOUNT|      9000|            - |       108|          100|\n",
      "|        110|      John|     Chen|   JCHEN|515.124.4269|28-SEP-05|FI_ACCOUNT|      8200|            - |       108|          100|\n",
      "+-----------+----------+---------+--------+------------+---------+----------+----------+--------------+----------+-------------+\n",
      "only showing top 20 rows\n",
      "\n"
     ]
    }
   ],
   "source": [
    "empdf.withColumnRenamed(\"SALARY\",\"EMP_SALARY\").show()"
   ]
  },
  {
   "cell_type": "code",
   "execution_count": 19,
   "id": "7ecee2db",
   "metadata": {
    "execution": {
     "iopub.execute_input": "2023-01-29T15:28:21.306226Z",
     "iopub.status.busy": "2023-01-29T15:28:21.305676Z",
     "iopub.status.idle": "2023-01-29T15:28:21.553544Z",
     "shell.execute_reply": "2023-01-29T15:28:21.552613Z"
    },
    "papermill": {
     "duration": 0.287508,
     "end_time": "2023-01-29T15:28:21.557324",
     "exception": false,
     "start_time": "2023-01-29T15:28:21.269816",
     "status": "completed"
    },
    "tags": []
   },
   "outputs": [
    {
     "name": "stdout",
     "output_type": "stream",
     "text": [
      "+-----------+----------+---------+--------+------------+---------+----------+------+----------+-------------+\n",
      "|EMPLOYEE_ID|FIRST_NAME|LAST_NAME|   EMAIL|PHONE_NUMBER|HIRE_DATE|    JOB_ID|SALARY|MANAGER_ID|DEPARTMENT_ID|\n",
      "+-----------+----------+---------+--------+------------+---------+----------+------+----------+-------------+\n",
      "|        198|    Donald| OConnell|DOCONNEL|650.507.9833|21-JUN-07|  SH_CLERK|  2600|       124|           50|\n",
      "|        199|   Douglas|    Grant|  DGRANT|650.507.9844|13-JAN-08|  SH_CLERK|  2600|       124|           50|\n",
      "|        200|  Jennifer|   Whalen| JWHALEN|515.123.4444|17-SEP-03|   AD_ASST|  4400|       101|           10|\n",
      "|        201|   Michael|Hartstein|MHARTSTE|515.123.5555|17-FEB-04|    MK_MAN| 13000|       100|           20|\n",
      "|        202|       Pat|      Fay|    PFAY|603.123.6666|17-AUG-05|    MK_REP|  6000|       201|           20|\n",
      "|        203|     Susan|   Mavris| SMAVRIS|515.123.7777|07-JUN-02|    HR_REP|  6500|       101|           40|\n",
      "|        204|   Hermann|     Baer|   HBAER|515.123.8888|07-JUN-02|    PR_REP| 10000|       101|           70|\n",
      "|        205|   Shelley|  Higgins|SHIGGINS|515.123.8080|07-JUN-02|    AC_MGR| 12008|       101|          110|\n",
      "|        206|   William|    Gietz|  WGIETZ|515.123.8181|07-JUN-02|AC_ACCOUNT|  8300|       205|          110|\n",
      "|        100|    Steven|     King|   SKING|515.123.4567|17-JUN-03|   AD_PRES| 24000|        - |           90|\n",
      "|        101|     Neena|  Kochhar|NKOCHHAR|515.123.4568|21-SEP-05|     AD_VP| 17000|       100|           90|\n",
      "|        102|       Lex|  De Haan| LDEHAAN|515.123.4569|13-JAN-01|     AD_VP| 17000|       100|           90|\n",
      "|        103| Alexander|   Hunold| AHUNOLD|590.423.4567|03-JAN-06|   IT_PROG|  9000|       102|           60|\n",
      "|        104|     Bruce|    Ernst|  BERNST|590.423.4568|21-MAY-07|   IT_PROG|  6000|       103|           60|\n",
      "|        105|     David|   Austin| DAUSTIN|590.423.4569|25-JUN-05|   IT_PROG|  4800|       103|           60|\n",
      "|        106|     Valli|Pataballa|VPATABAL|590.423.4560|05-FEB-06|   IT_PROG|  4800|       103|           60|\n",
      "|        107|     Diana|  Lorentz|DLORENTZ|590.423.5567|07-FEB-07|   IT_PROG|  4200|       103|           60|\n",
      "|        108|     Nancy|Greenberg|NGREENBE|515.124.4569|17-AUG-02|    FI_MGR| 12008|       101|          100|\n",
      "|        109|    Daniel|   Faviet| DFAVIET|515.124.4169|16-AUG-02|FI_ACCOUNT|  9000|       108|          100|\n",
      "|        110|      John|     Chen|   JCHEN|515.124.4269|28-SEP-05|FI_ACCOUNT|  8200|       108|          100|\n",
      "+-----------+----------+---------+--------+------------+---------+----------+------+----------+-------------+\n",
      "only showing top 20 rows\n",
      "\n"
     ]
    }
   ],
   "source": [
    "empdf.drop(\"COMMISSION_PCT\").show()"
   ]
  },
  {
   "cell_type": "code",
   "execution_count": 20,
   "id": "c43df1ea",
   "metadata": {
    "execution": {
     "iopub.execute_input": "2023-01-29T15:28:21.659793Z",
     "iopub.status.busy": "2023-01-29T15:28:21.659419Z",
     "iopub.status.idle": "2023-01-29T15:28:22.006078Z",
     "shell.execute_reply": "2023-01-29T15:28:22.004764Z"
    },
    "papermill": {
     "duration": 0.401942,
     "end_time": "2023-01-29T15:28:22.009912",
     "exception": false,
     "start_time": "2023-01-29T15:28:21.607970",
     "status": "completed"
    },
    "tags": []
   },
   "outputs": [
    {
     "name": "stdout",
     "output_type": "stream",
     "text": [
      "+-----------+----------+-----------+--------+------------+---------+--------+------+--------------+----------+-------------+\n",
      "|EMPLOYEE_ID|FIRST_NAME|  LAST_NAME|   EMAIL|PHONE_NUMBER|HIRE_DATE|  JOB_ID|SALARY|COMMISSION_PCT|MANAGER_ID|DEPARTMENT_ID|\n",
      "+-----------+----------+-----------+--------+------------+---------+--------+------+--------------+----------+-------------+\n",
      "|        198|    Donald|   OConnell|DOCONNEL|650.507.9833|21-JUN-07|SH_CLERK|  2600|            - |       124|           50|\n",
      "|        199|   Douglas|      Grant|  DGRANT|650.507.9844|13-JAN-08|SH_CLERK|  2600|            - |       124|           50|\n",
      "|        200|  Jennifer|     Whalen| JWHALEN|515.123.4444|17-SEP-03| AD_ASST|  4400|            - |       101|           10|\n",
      "|        105|     David|     Austin| DAUSTIN|590.423.4569|25-JUN-05| IT_PROG|  4800|            - |       103|           60|\n",
      "|        106|     Valli|  Pataballa|VPATABAL|590.423.4560|05-FEB-06| IT_PROG|  4800|            - |       103|           60|\n",
      "|        107|     Diana|    Lorentz|DLORENTZ|590.423.5567|07-FEB-07| IT_PROG|  4200|            - |       103|           60|\n",
      "|        115| Alexander|       Khoo|   AKHOO|515.127.4562|18-MAY-03|PU_CLERK|  3100|            - |       114|           30|\n",
      "|        116|    Shelli|      Baida|  SBAIDA|515.127.4563|24-DEC-05|PU_CLERK|  2900|            - |       114|           30|\n",
      "|        117|     Sigal|     Tobias| STOBIAS|515.127.4564|24-JUL-05|PU_CLERK|  2800|            - |       114|           30|\n",
      "|        118|       Guy|     Himuro| GHIMURO|515.127.4565|15-NOV-06|PU_CLERK|  2600|            - |       114|           30|\n",
      "|        119|     Karen| Colmenares|KCOLMENA|515.127.4566|10-AUG-07|PU_CLERK|  2500|            - |       114|           30|\n",
      "|        125|     Julia|      Nayer|  JNAYER|650.124.1214|16-JUL-05|ST_CLERK|  3200|            - |       120|           50|\n",
      "|        126|     Irene|Mikkilineni|IMIKKILI|650.124.1224|28-SEP-06|ST_CLERK|  2700|            - |       120|           50|\n",
      "|        127|     James|     Landry| JLANDRY|650.124.1334|14-JAN-07|ST_CLERK|  2400|            - |       120|           50|\n",
      "|        128|    Steven|     Markle| SMARKLE|650.124.1434|08-MAR-08|ST_CLERK|  2200|            - |       120|           50|\n",
      "|        129|     Laura|     Bissot| LBISSOT|650.124.5234|20-AUG-05|ST_CLERK|  3300|            - |       121|           50|\n",
      "|        130|     Mozhe|   Atkinson|MATKINSO|650.124.6234|30-OCT-05|ST_CLERK|  2800|            - |       121|           50|\n",
      "|        131|     James|     Marlow| JAMRLOW|650.124.7234|16-FEB-05|ST_CLERK|  2500|            - |       121|           50|\n",
      "|        132|        TJ|      Olson| TJOLSON|650.124.8234|10-APR-07|ST_CLERK|  2100|            - |       121|           50|\n",
      "|        133|     Jason|     Mallin| JMALLIN|650.127.1934|14-JUN-04|ST_CLERK|  3300|            - |       122|           50|\n",
      "+-----------+----------+-----------+--------+------------+---------+--------+------+--------------+----------+-------------+\n",
      "only showing top 20 rows\n",
      "\n"
     ]
    }
   ],
   "source": [
    "empdf.filter(col(\"SALARY\")<5000).show()"
   ]
  },
  {
   "cell_type": "code",
   "execution_count": 21,
   "id": "4d3e3614",
   "metadata": {
    "execution": {
     "iopub.execute_input": "2023-01-29T15:28:22.138858Z",
     "iopub.status.busy": "2023-01-29T15:28:22.138339Z",
     "iopub.status.idle": "2023-01-29T15:28:22.344038Z",
     "shell.execute_reply": "2023-01-29T15:28:22.342743Z"
    },
    "papermill": {
     "duration": 0.279254,
     "end_time": "2023-01-29T15:28:22.349632",
     "exception": false,
     "start_time": "2023-01-29T15:28:22.070378",
     "status": "completed"
    },
    "tags": []
   },
   "outputs": [
    {
     "name": "stdout",
     "output_type": "stream",
     "text": [
      "+-----------+----------+------+\n",
      "|EMPLOYEE_ID|FIRST_NAME|SALARY|\n",
      "+-----------+----------+------+\n",
      "|        198|    Donald|  2600|\n",
      "|        199|   Douglas|  2600|\n",
      "|        200|  Jennifer|  4400|\n",
      "|        105|     David|  4800|\n",
      "|        106|     Valli|  4800|\n",
      "|        107|     Diana|  4200|\n",
      "|        115| Alexander|  3100|\n",
      "|        116|    Shelli|  2900|\n",
      "|        117|     Sigal|  2800|\n",
      "|        118|       Guy|  2600|\n",
      "+-----------+----------+------+\n",
      "only showing top 10 rows\n",
      "\n"
     ]
    }
   ],
   "source": [
    "empdf.filter(col(\"SALARY\") < 5000).select(\"EMPLOYEE_ID\",\"FIRST_NAME\",\"SALARY\").show(10)"
   ]
  },
  {
   "cell_type": "code",
   "execution_count": 22,
   "id": "4d7f9ccb",
   "metadata": {
    "execution": {
     "iopub.execute_input": "2023-01-29T15:28:22.458737Z",
     "iopub.status.busy": "2023-01-29T15:28:22.458280Z",
     "iopub.status.idle": "2023-01-29T15:28:22.753885Z",
     "shell.execute_reply": "2023-01-29T15:28:22.752614Z"
    },
    "papermill": {
     "duration": 0.353348,
     "end_time": "2023-01-29T15:28:22.757140",
     "exception": false,
     "start_time": "2023-01-29T15:28:22.403792",
     "status": "completed"
    },
    "tags": []
   },
   "outputs": [
    {
     "name": "stdout",
     "output_type": "stream",
     "text": [
      "+-----------+----------+------+-------------+\n",
      "|EMPLOYEE_ID|FIRST_NAME|SALARY|DEPARTMENT_ID|\n",
      "+-----------+----------+------+-------------+\n",
      "|        198|    Donald|  2600|           50|\n",
      "|        199|   Douglas|  2600|           50|\n",
      "|        125|     Julia|  3200|           50|\n",
      "|        126|     Irene|  2700|           50|\n",
      "|        127|     James|  2400|           50|\n",
      "|        128|    Steven|  2200|           50|\n",
      "|        129|     Laura|  3300|           50|\n",
      "|        130|     Mozhe|  2800|           50|\n",
      "|        131|     James|  2500|           50|\n",
      "|        132|        TJ|  2100|           50|\n",
      "+-----------+----------+------+-------------+\n",
      "only showing top 10 rows\n",
      "\n"
     ]
    }
   ],
   "source": [
    "empdf.filter((col(\"DEPARTMENT_ID\")==50) & (col(\"SALARY\")<5000)).select(\"EMPLOYEE_ID\",\"FIRST_NAME\",\"SALARY\",\"DEPARTMENT_ID\").show(10)"
   ]
  },
  {
   "cell_type": "code",
   "execution_count": 23,
   "id": "f9a33c70",
   "metadata": {
    "execution": {
     "iopub.execute_input": "2023-01-29T15:28:22.871089Z",
     "iopub.status.busy": "2023-01-29T15:28:22.870573Z",
     "iopub.status.idle": "2023-01-29T15:28:23.195417Z",
     "shell.execute_reply": "2023-01-29T15:28:23.194146Z"
    },
    "papermill": {
     "duration": 0.391609,
     "end_time": "2023-01-29T15:28:23.203983",
     "exception": false,
     "start_time": "2023-01-29T15:28:22.812374",
     "status": "completed"
    },
    "tags": []
   },
   "outputs": [
    {
     "name": "stdout",
     "output_type": "stream",
     "text": [
      "+-----------+----------+------+-------------+\n",
      "|EMPLOYEE_ID|FIRST_NAME|SALARY|DEPARTMENT_ID|\n",
      "+-----------+----------+------+-------------+\n",
      "|        200|  Jennifer|  4400|           10|\n",
      "|        201|   Michael| 13000|           20|\n",
      "|        202|       Pat|  6000|           20|\n",
      "|        203|     Susan|  6500|           40|\n",
      "|        204|   Hermann| 10000|           70|\n",
      "|        205|   Shelley| 12008|          110|\n",
      "|        206|   William|  8300|          110|\n",
      "|        100|    Steven| 24000|           90|\n",
      "|        101|     Neena| 17000|           90|\n",
      "|        102|       Lex| 17000|           90|\n",
      "+-----------+----------+------+-------------+\n",
      "only showing top 10 rows\n",
      "\n"
     ]
    }
   ],
   "source": [
    " empdf.filter(\"DEPARTMENT_ID != 50\").select(\"EMPLOYEE_ID\",\"FIRST_NAME\",\"SALARY\",\"DEPARTMENT_ID\").show(10)"
   ]
  },
  {
   "cell_type": "code",
   "execution_count": 24,
   "id": "4ee0f7f5",
   "metadata": {
    "execution": {
     "iopub.execute_input": "2023-01-29T15:28:23.315828Z",
     "iopub.status.busy": "2023-01-29T15:28:23.315138Z",
     "iopub.status.idle": "2023-01-29T15:28:24.316752Z",
     "shell.execute_reply": "2023-01-29T15:28:24.315558Z"
    },
    "papermill": {
     "duration": 1.058919,
     "end_time": "2023-01-29T15:28:24.319725",
     "exception": false,
     "start_time": "2023-01-29T15:28:23.260806",
     "status": "completed"
    },
    "tags": []
   },
   "outputs": [
    {
     "name": "stdout",
     "output_type": "stream",
     "text": [
      "+-----------+----------+---------+--------+------------+---------+----------+------+--------------+----------+-------------+\n",
      "|EMPLOYEE_ID|FIRST_NAME|LAST_NAME|   EMAIL|PHONE_NUMBER|HIRE_DATE|    JOB_ID|SALARY|COMMISSION_PCT|MANAGER_ID|DEPARTMENT_ID|\n",
      "+-----------+----------+---------+--------+------------+---------+----------+------+--------------+----------+-------------+\n",
      "|        120|   Matthew|    Weiss|  MWEISS|650.123.1234|18-JUL-04|    ST_MAN|  8000|            - |       100|           50|\n",
      "|        118|       Guy|   Himuro| GHIMURO|515.127.4565|15-NOV-06|  PU_CLERK|  2600|            - |       114|           30|\n",
      "|        110|      John|     Chen|   JCHEN|515.124.4269|28-SEP-05|FI_ACCOUNT|  8200|            - |       108|          100|\n",
      "|        123|    Shanta|  Vollman|SVOLLMAN|650.123.4234|10-OCT-05|    ST_MAN|  6500|            - |       100|           50|\n",
      "|        124|     Kevin|  Mourgos|KMOURGOS|650.123.5234|16-NOV-07|    ST_MAN|  5800|            - |       100|           50|\n",
      "|        137|    Renske|   Ladwig| RLADWIG|650.121.1234|14-JUL-03|  ST_CLERK|  3600|            - |       123|           50|\n",
      "|        132|        TJ|    Olson| TJOLSON|650.124.8234|10-APR-07|  ST_CLERK|  2100|            - |       121|           50|\n",
      "|        113|      Luis|     Popp|   LPOPP|515.124.4567|07-DEC-07|FI_ACCOUNT|  6900|            - |       108|          100|\n",
      "|        139|      John|      Seo|    JSEO|650.121.2019|12-FEB-06|  ST_CLERK|  2700|            - |       123|           50|\n",
      "|        201|   Michael|Hartstein|MHARTSTE|515.123.5555|17-FEB-04|    MK_MAN| 13000|            - |       100|           20|\n",
      "|        107|     Diana|  Lorentz|DLORENTZ|590.423.5567|07-FEB-07|   IT_PROG|  4200|            - |       103|           60|\n",
      "|        135|        Ki|      Gee|    KGEE|650.127.1734|12-DEC-07|  ST_CLERK|  2400|            - |       122|           50|\n",
      "|        104|     Bruce|    Ernst|  BERNST|590.423.4568|21-MAY-07|   IT_PROG|  6000|            - |       103|           60|\n",
      "|        103| Alexander|   Hunold| AHUNOLD|590.423.4567|03-JAN-06|   IT_PROG|  9000|            - |       102|           60|\n",
      "|        108|     Nancy|Greenberg|NGREENBE|515.124.4569|17-AUG-02|    FI_MGR| 12008|            - |       101|          100|\n",
      "|        121|      Adam|    Fripp|  AFRIPP|650.123.2234|10-APR-05|    ST_MAN|  8200|            - |       100|           50|\n",
      "|        100|    Steven|     King|   SKING|515.123.4567|17-JUN-03|   AD_PRES| 24000|            - |        - |           90|\n",
      "|        117|     Sigal|   Tobias| STOBIAS|515.127.4564|24-JUL-05|  PU_CLERK|  2800|            - |       114|           30|\n",
      "|        130|     Mozhe| Atkinson|MATKINSO|650.124.6234|30-OCT-05|  ST_CLERK|  2800|            - |       121|           50|\n",
      "|        134|   Michael|   Rogers| MROGERS|650.127.1834|26-AUG-06|  ST_CLERK|  2900|            - |       122|           50|\n",
      "+-----------+----------+---------+--------+------------+---------+----------+------+--------------+----------+-------------+\n",
      "only showing top 20 rows\n",
      "\n"
     ]
    }
   ],
   "source": [
    "empdf.distinct().show()"
   ]
  },
  {
   "cell_type": "code",
   "execution_count": 25,
   "id": "2f24a2e5",
   "metadata": {
    "execution": {
     "iopub.execute_input": "2023-01-29T15:28:24.425317Z",
     "iopub.status.busy": "2023-01-29T15:28:24.424789Z",
     "iopub.status.idle": "2023-01-29T15:28:24.709270Z",
     "shell.execute_reply": "2023-01-29T15:28:24.708058Z"
    },
    "papermill": {
     "duration": 0.342738,
     "end_time": "2023-01-29T15:28:24.714289",
     "exception": false,
     "start_time": "2023-01-29T15:28:24.371551",
     "status": "completed"
    },
    "tags": []
   },
   "outputs": [
    {
     "name": "stdout",
     "output_type": "stream",
     "text": [
      "+-----------+----------+---------+--------+------------+---------+----------+------+--------------+----------+-------------+\n",
      "|EMPLOYEE_ID|FIRST_NAME|LAST_NAME|   EMAIL|PHONE_NUMBER|HIRE_DATE|    JOB_ID|SALARY|COMMISSION_PCT|MANAGER_ID|DEPARTMENT_ID|\n",
      "+-----------+----------+---------+--------+------------+---------+----------+------+--------------+----------+-------------+\n",
      "|        120|   Matthew|    Weiss|  MWEISS|650.123.1234|18-JUL-04|    ST_MAN|  8000|            - |       100|           50|\n",
      "|        118|       Guy|   Himuro| GHIMURO|515.127.4565|15-NOV-06|  PU_CLERK|  2600|            - |       114|           30|\n",
      "|        110|      John|     Chen|   JCHEN|515.124.4269|28-SEP-05|FI_ACCOUNT|  8200|            - |       108|          100|\n",
      "|        123|    Shanta|  Vollman|SVOLLMAN|650.123.4234|10-OCT-05|    ST_MAN|  6500|            - |       100|           50|\n",
      "|        124|     Kevin|  Mourgos|KMOURGOS|650.123.5234|16-NOV-07|    ST_MAN|  5800|            - |       100|           50|\n",
      "|        137|    Renske|   Ladwig| RLADWIG|650.121.1234|14-JUL-03|  ST_CLERK|  3600|            - |       123|           50|\n",
      "|        132|        TJ|    Olson| TJOLSON|650.124.8234|10-APR-07|  ST_CLERK|  2100|            - |       121|           50|\n",
      "|        113|      Luis|     Popp|   LPOPP|515.124.4567|07-DEC-07|FI_ACCOUNT|  6900|            - |       108|          100|\n",
      "|        139|      John|      Seo|    JSEO|650.121.2019|12-FEB-06|  ST_CLERK|  2700|            - |       123|           50|\n",
      "|        201|   Michael|Hartstein|MHARTSTE|515.123.5555|17-FEB-04|    MK_MAN| 13000|            - |       100|           20|\n",
      "+-----------+----------+---------+--------+------------+---------+----------+------+--------------+----------+-------------+\n",
      "only showing top 10 rows\n",
      "\n"
     ]
    }
   ],
   "source": [
    "empdf.dropDuplicates().show(10)"
   ]
  },
  {
   "cell_type": "code",
   "execution_count": 26,
   "id": "a58d7eb7",
   "metadata": {
    "execution": {
     "iopub.execute_input": "2023-01-29T15:28:24.786815Z",
     "iopub.status.busy": "2023-01-29T15:28:24.786419Z",
     "iopub.status.idle": "2023-01-29T15:28:25.459433Z",
     "shell.execute_reply": "2023-01-29T15:28:25.458250Z"
    },
    "papermill": {
     "duration": 0.71436,
     "end_time": "2023-01-29T15:28:25.464347",
     "exception": false,
     "start_time": "2023-01-29T15:28:24.749987",
     "status": "completed"
    },
    "tags": []
   },
   "outputs": [
    {
     "name": "stdout",
     "output_type": "stream",
     "text": [
      "+-----------+----------+----------+--------+------------+---------+--------+------+--------------+----------+-------------+\n",
      "|EMPLOYEE_ID|FIRST_NAME| LAST_NAME|   EMAIL|PHONE_NUMBER|HIRE_DATE|  JOB_ID|SALARY|COMMISSION_PCT|MANAGER_ID|DEPARTMENT_ID|\n",
      "+-----------+----------+----------+--------+------------+---------+--------+------+--------------+----------+-------------+\n",
      "|        200|  Jennifer|    Whalen| JWHALEN|515.123.4444|17-SEP-03| AD_ASST|  4400|            - |       101|           10|\n",
      "|        202|       Pat|       Fay|    PFAY|603.123.6666|17-AUG-05|  MK_REP|  6000|            - |       201|           20|\n",
      "|        201|   Michael| Hartstein|MHARTSTE|515.123.5555|17-FEB-04|  MK_MAN| 13000|            - |       100|           20|\n",
      "|        114|       Den|  Raphaely|DRAPHEAL|515.127.4561|07-DEC-02|  PU_MAN| 11000|            - |       100|           30|\n",
      "|        119|     Karen|Colmenares|KCOLMENA|515.127.4566|10-AUG-07|PU_CLERK|  2500|            - |       114|           30|\n",
      "|        118|       Guy|    Himuro| GHIMURO|515.127.4565|15-NOV-06|PU_CLERK|  2600|            - |       114|           30|\n",
      "|        115| Alexander|      Khoo|   AKHOO|515.127.4562|18-MAY-03|PU_CLERK|  3100|            - |       114|           30|\n",
      "|        116|    Shelli|     Baida|  SBAIDA|515.127.4563|24-DEC-05|PU_CLERK|  2900|            - |       114|           30|\n",
      "|        117|     Sigal|    Tobias| STOBIAS|515.127.4564|24-JUL-05|PU_CLERK|  2800|            - |       114|           30|\n",
      "|        203|     Susan|    Mavris| SMAVRIS|515.123.7777|07-JUN-02|  HR_REP|  6500|            - |       101|           40|\n",
      "+-----------+----------+----------+--------+------------+---------+--------+------+--------------+----------+-------------+\n",
      "only showing top 10 rows\n",
      "\n"
     ]
    }
   ],
   "source": [
    "empdf.dropDuplicates([\"DEPARTMENT_ID\", \"HIRE_DATE\"]).show(10)"
   ]
  },
  {
   "cell_type": "code",
   "execution_count": 27,
   "id": "ac7425ae",
   "metadata": {
    "execution": {
     "iopub.execute_input": "2023-01-29T15:28:25.588012Z",
     "iopub.status.busy": "2023-01-29T15:28:25.587395Z",
     "iopub.status.idle": "2023-01-29T15:28:25.812596Z",
     "shell.execute_reply": "2023-01-29T15:28:25.811507Z"
    },
    "papermill": {
     "duration": 0.316167,
     "end_time": "2023-01-29T15:28:25.816043",
     "exception": false,
     "start_time": "2023-01-29T15:28:25.499876",
     "status": "completed"
    },
    "tags": []
   },
   "outputs": [
    {
     "data": {
      "text/plain": [
       "50"
      ]
     },
     "execution_count": 27,
     "metadata": {},
     "output_type": "execute_result"
    }
   ],
   "source": [
    "from pyspark.sql.functions import *\n",
    "empdf.count()"
   ]
  },
  {
   "cell_type": "code",
   "execution_count": 28,
   "id": "069e3938",
   "metadata": {
    "execution": {
     "iopub.execute_input": "2023-01-29T15:28:25.919401Z",
     "iopub.status.busy": "2023-01-29T15:28:25.918876Z",
     "iopub.status.idle": "2023-01-29T15:28:26.149804Z",
     "shell.execute_reply": "2023-01-29T15:28:26.148645Z"
    },
    "papermill": {
     "duration": 0.288204,
     "end_time": "2023-01-29T15:28:26.154741",
     "exception": false,
     "start_time": "2023-01-29T15:28:25.866537",
     "status": "completed"
    },
    "tags": []
   },
   "outputs": [
    {
     "name": "stdout",
     "output_type": "stream",
     "text": [
      "+-------------+\n",
      "|count(salary)|\n",
      "+-------------+\n",
      "|           50|\n",
      "+-------------+\n",
      "\n"
     ]
    }
   ],
   "source": [
    "empdf.select(count(\"salary\")).show()"
   ]
  },
  {
   "cell_type": "code",
   "execution_count": 29,
   "id": "46104f8f",
   "metadata": {
    "execution": {
     "iopub.execute_input": "2023-01-29T15:28:26.261911Z",
     "iopub.status.busy": "2023-01-29T15:28:26.261424Z",
     "iopub.status.idle": "2023-01-29T15:28:26.461638Z",
     "shell.execute_reply": "2023-01-29T15:28:26.460399Z"
    },
    "papermill": {
     "duration": 0.258763,
     "end_time": "2023-01-29T15:28:26.465762",
     "exception": false,
     "start_time": "2023-01-29T15:28:26.206999",
     "status": "completed"
    },
    "tags": []
   },
   "outputs": [
    {
     "name": "stdout",
     "output_type": "stream",
     "text": [
      "+-----------+\n",
      "|total_count|\n",
      "+-----------+\n",
      "|         50|\n",
      "+-----------+\n",
      "\n"
     ]
    }
   ],
   "source": [
    "empdf.select(count(\"salary\").alias(\"total_count\")).show()"
   ]
  },
  {
   "cell_type": "code",
   "execution_count": 30,
   "id": "b7dc6d22",
   "metadata": {
    "execution": {
     "iopub.execute_input": "2023-01-29T15:28:26.537604Z",
     "iopub.status.busy": "2023-01-29T15:28:26.537140Z",
     "iopub.status.idle": "2023-01-29T15:28:26.865170Z",
     "shell.execute_reply": "2023-01-29T15:28:26.863875Z"
    },
    "papermill": {
     "duration": 0.369222,
     "end_time": "2023-01-29T15:28:26.870122",
     "exception": false,
     "start_time": "2023-01-29T15:28:26.500900",
     "status": "completed"
    },
    "tags": []
   },
   "outputs": [
    {
     "name": "stdout",
     "output_type": "stream",
     "text": [
      "+----------+\n",
      "|max_salary|\n",
      "+----------+\n",
      "|     24000|\n",
      "+----------+\n",
      "\n"
     ]
    }
   ],
   "source": [
    "empdf.select(max(\"salary\").alias(\"max_salary\")).show()"
   ]
  },
  {
   "cell_type": "code",
   "execution_count": 31,
   "id": "df9e2571",
   "metadata": {
    "execution": {
     "iopub.execute_input": "2023-01-29T15:28:26.979990Z",
     "iopub.status.busy": "2023-01-29T15:28:26.979318Z",
     "iopub.status.idle": "2023-01-29T15:28:27.183616Z",
     "shell.execute_reply": "2023-01-29T15:28:27.182393Z"
    },
    "papermill": {
     "duration": 0.261468,
     "end_time": "2023-01-29T15:28:27.187046",
     "exception": false,
     "start_time": "2023-01-29T15:28:26.925578",
     "status": "completed"
    },
    "tags": []
   },
   "outputs": [
    {
     "name": "stdout",
     "output_type": "stream",
     "text": [
      "+----------+\n",
      "|min_salary|\n",
      "+----------+\n",
      "|      2100|\n",
      "+----------+\n",
      "\n"
     ]
    }
   ],
   "source": [
    "empdf.select(min(\"salary\").alias(\"min_salary\")).show()"
   ]
  },
  {
   "cell_type": "code",
   "execution_count": 32,
   "id": "311e0e0d",
   "metadata": {
    "execution": {
     "iopub.execute_input": "2023-01-29T15:28:27.287903Z",
     "iopub.status.busy": "2023-01-29T15:28:27.287420Z",
     "iopub.status.idle": "2023-01-29T15:28:27.494015Z",
     "shell.execute_reply": "2023-01-29T15:28:27.491437Z"
    },
    "papermill": {
     "duration": 0.256215,
     "end_time": "2023-01-29T15:28:27.498249",
     "exception": false,
     "start_time": "2023-01-29T15:28:27.242034",
     "status": "completed"
    },
    "tags": []
   },
   "outputs": [
    {
     "name": "stdout",
     "output_type": "stream",
     "text": [
      "+----------+\n",
      "|avg_salary|\n",
      "+----------+\n",
      "|   6182.32|\n",
      "+----------+\n",
      "\n"
     ]
    }
   ],
   "source": [
    "empdf.select(avg(\"salary\").alias(\"avg_salary\")).show()"
   ]
  },
  {
   "cell_type": "code",
   "execution_count": 33,
   "id": "c015663b",
   "metadata": {
    "execution": {
     "iopub.execute_input": "2023-01-29T15:28:27.574233Z",
     "iopub.status.busy": "2023-01-29T15:28:27.573782Z",
     "iopub.status.idle": "2023-01-29T15:28:27.743725Z",
     "shell.execute_reply": "2023-01-29T15:28:27.741128Z"
    },
    "papermill": {
     "duration": 0.211064,
     "end_time": "2023-01-29T15:28:27.748019",
     "exception": false,
     "start_time": "2023-01-29T15:28:27.536955",
     "status": "completed"
    },
    "tags": []
   },
   "outputs": [
    {
     "name": "stdout",
     "output_type": "stream",
     "text": [
      "+----------+\n",
      "|sum_salary|\n",
      "+----------+\n",
      "|    309116|\n",
      "+----------+\n",
      "\n"
     ]
    }
   ],
   "source": [
    "empdf.select(sum(\"salary\").alias(\"sum_salary\")).show()"
   ]
  },
  {
   "cell_type": "code",
   "execution_count": 34,
   "id": "e10a03de",
   "metadata": {
    "execution": {
     "iopub.execute_input": "2023-01-29T15:28:27.847993Z",
     "iopub.status.busy": "2023-01-29T15:28:27.846603Z",
     "iopub.status.idle": "2023-01-29T15:28:28.105483Z",
     "shell.execute_reply": "2023-01-29T15:28:28.104268Z"
    },
    "papermill": {
     "duration": 0.309748,
     "end_time": "2023-01-29T15:28:28.109107",
     "exception": false,
     "start_time": "2023-01-29T15:28:27.799359",
     "status": "completed"
    },
    "tags": []
   },
   "outputs": [
    {
     "name": "stdout",
     "output_type": "stream",
     "text": [
      "+-----------+----------+-------------+------+\n",
      "|EMPLOYEE_ID|FIRST_NAME|DEPARTMENT_ID|SALARY|\n",
      "+-----------+----------+-------------+------+\n",
      "|        200|  Jennifer|           10|  4400|\n",
      "|        201|   Michael|           20| 13000|\n",
      "|        202|       Pat|           20|  6000|\n",
      "|        114|       Den|           30| 11000|\n",
      "|        115| Alexander|           30|  3100|\n",
      "|        116|    Shelli|           30|  2900|\n",
      "|        117|     Sigal|           30|  2800|\n",
      "|        118|       Guy|           30|  2600|\n",
      "|        119|     Karen|           30|  2500|\n",
      "|        203|     Susan|           40|  6500|\n",
      "+-----------+----------+-------------+------+\n",
      "only showing top 10 rows\n",
      "\n"
     ]
    }
   ],
   "source": [
    "empdf.select(\"EMPLOYEE_ID\",\"FIRST_NAME\",\"DEPARTMENT_ID\",\"SALARY\").orderBy(col(\"DEPARTMENT_ID\").asc(),col(\"SALARY\").desc()).show(10)"
   ]
  },
  {
   "cell_type": "code",
   "execution_count": 35,
   "id": "b71a16b1",
   "metadata": {
    "execution": {
     "iopub.execute_input": "2023-01-29T15:28:28.218884Z",
     "iopub.status.busy": "2023-01-29T15:28:28.218376Z",
     "iopub.status.idle": "2023-01-29T15:28:28.580450Z",
     "shell.execute_reply": "2023-01-29T15:28:28.578418Z"
    },
    "papermill": {
     "duration": 0.420985,
     "end_time": "2023-01-29T15:28:28.584531",
     "exception": false,
     "start_time": "2023-01-29T15:28:28.163546",
     "status": "completed"
    },
    "tags": []
   },
   "outputs": [
    {
     "name": "stdout",
     "output_type": "stream",
     "text": [
      "+-------------+-----------+\n",
      "|DEPARTMENT_ID|sum(SALARY)|\n",
      "+-------------+-----------+\n",
      "|           20|      19000|\n",
      "|           40|       6500|\n",
      "|          100|      51608|\n",
      "|           10|       4400|\n",
      "|           50|      85600|\n",
      "|           70|      10000|\n",
      "|           90|      58000|\n",
      "|           60|      28800|\n",
      "|          110|      20308|\n",
      "|           30|      24900|\n",
      "+-------------+-----------+\n",
      "\n"
     ]
    }
   ],
   "source": [
    "empdf.groupBy(\"DEPARTMENT_ID\").sum(\"SALARY\").show(10)"
   ]
  },
  {
   "cell_type": "code",
   "execution_count": 36,
   "id": "ae126df8",
   "metadata": {
    "execution": {
     "iopub.execute_input": "2023-01-29T15:28:28.658469Z",
     "iopub.status.busy": "2023-01-29T15:28:28.658045Z",
     "iopub.status.idle": "2023-01-29T15:28:28.906717Z",
     "shell.execute_reply": "2023-01-29T15:28:28.905427Z"
    },
    "papermill": {
     "duration": 0.289438,
     "end_time": "2023-01-29T15:28:28.910482",
     "exception": false,
     "start_time": "2023-01-29T15:28:28.621044",
     "status": "completed"
    },
    "tags": []
   },
   "outputs": [
    {
     "name": "stdout",
     "output_type": "stream",
     "text": [
      "+-------------+-----------+\n",
      "|DEPARTMENT_ID|max(SALARY)|\n",
      "+-------------+-----------+\n",
      "|           20|      13000|\n",
      "|           40|       6500|\n",
      "|          100|      12008|\n",
      "|           10|       4400|\n",
      "|           50|       8200|\n",
      "|           70|      10000|\n",
      "|           90|      24000|\n",
      "|           60|       9000|\n",
      "|          110|      12008|\n",
      "|           30|      11000|\n",
      "+-------------+-----------+\n",
      "\n"
     ]
    }
   ],
   "source": [
    "empdf.groupBy(\"DEPARTMENT_ID\").max(\"SALARY\").show(10)"
   ]
  },
  {
   "cell_type": "code",
   "execution_count": 37,
   "id": "d5b46367",
   "metadata": {
    "execution": {
     "iopub.execute_input": "2023-01-29T15:28:29.020382Z",
     "iopub.status.busy": "2023-01-29T15:28:29.019969Z",
     "iopub.status.idle": "2023-01-29T15:28:29.289622Z",
     "shell.execute_reply": "2023-01-29T15:28:29.288374Z"
    },
    "papermill": {
     "duration": 0.328552,
     "end_time": "2023-01-29T15:28:29.293494",
     "exception": false,
     "start_time": "2023-01-29T15:28:28.964942",
     "status": "completed"
    },
    "tags": []
   },
   "outputs": [
    {
     "name": "stdout",
     "output_type": "stream",
     "text": [
      "+-------------+-----------+\n",
      "|DEPARTMENT_ID|min(SALARY)|\n",
      "+-------------+-----------+\n",
      "|           20|       6000|\n",
      "|           40|       6500|\n",
      "|          100|       6900|\n",
      "|           10|       4400|\n",
      "|           50|       2100|\n",
      "|           70|      10000|\n",
      "|           90|      17000|\n",
      "|           60|       4200|\n",
      "|          110|       8300|\n",
      "|           30|       2500|\n",
      "+-------------+-----------+\n",
      "\n"
     ]
    }
   ],
   "source": [
    "empdf.groupBy(\"DEPARTMENT_ID\").min(\"SALARY\").show(10)"
   ]
  },
  {
   "cell_type": "code",
   "execution_count": 38,
   "id": "0798f7ff",
   "metadata": {
    "execution": {
     "iopub.execute_input": "2023-01-29T15:28:29.368763Z",
     "iopub.status.busy": "2023-01-29T15:28:29.368298Z",
     "iopub.status.idle": "2023-01-29T15:28:29.649040Z",
     "shell.execute_reply": "2023-01-29T15:28:29.647461Z"
    },
    "papermill": {
     "duration": 0.323366,
     "end_time": "2023-01-29T15:28:29.652482",
     "exception": false,
     "start_time": "2023-01-29T15:28:29.329116",
     "status": "completed"
    },
    "tags": []
   },
   "outputs": [
    {
     "name": "stdout",
     "output_type": "stream",
     "text": [
      "+-------------+--------+-----------+\n",
      "|DEPARTMENT_ID|  JOB_ID|sum(SALARY)|\n",
      "+-------------+--------+-----------+\n",
      "|           90| AD_PRES|      24000|\n",
      "|           30|  PU_MAN|      11000|\n",
      "|           70|  PR_REP|      10000|\n",
      "|           50|  ST_MAN|      36400|\n",
      "|           40|  HR_REP|       6500|\n",
      "|           60| IT_PROG|      28800|\n",
      "|           10| AD_ASST|       4400|\n",
      "|           30|PU_CLERK|      13900|\n",
      "|           50|ST_CLERK|      44000|\n",
      "|           20|  MK_REP|       6000|\n",
      "+-------------+--------+-----------+\n",
      "only showing top 10 rows\n",
      "\n"
     ]
    }
   ],
   "source": [
    "empdf.groupBy(\"DEPARTMENT_ID\",\"JOB_ID\").sum(\"SALARY\").show(10)"
   ]
  },
  {
   "cell_type": "code",
   "execution_count": 39,
   "id": "262c953d",
   "metadata": {
    "execution": {
     "iopub.execute_input": "2023-01-29T15:28:29.763833Z",
     "iopub.status.busy": "2023-01-29T15:28:29.763263Z",
     "iopub.status.idle": "2023-01-29T15:28:29.771460Z",
     "shell.execute_reply": "2023-01-29T15:28:29.770073Z"
    },
    "papermill": {
     "duration": 0.066425,
     "end_time": "2023-01-29T15:28:29.774497",
     "exception": false,
     "start_time": "2023-01-29T15:28:29.708072",
     "status": "completed"
    },
    "tags": []
   },
   "outputs": [
    {
     "name": "stdout",
     "output_type": "stream",
     "text": [
      "root\n",
      " |-- EMPLOYEE_ID: integer (nullable = true)\n",
      " |-- FIRST_NAME: string (nullable = true)\n",
      " |-- LAST_NAME: string (nullable = true)\n",
      " |-- EMAIL: string (nullable = true)\n",
      " |-- PHONE_NUMBER: string (nullable = true)\n",
      " |-- HIRE_DATE: string (nullable = true)\n",
      " |-- JOB_ID: string (nullable = true)\n",
      " |-- SALARY: integer (nullable = true)\n",
      " |-- COMMISSION_PCT: string (nullable = true)\n",
      " |-- MANAGER_ID: string (nullable = true)\n",
      " |-- DEPARTMENT_ID: integer (nullable = true)\n",
      "\n"
     ]
    }
   ],
   "source": [
    "empdf.printSchema()"
   ]
  },
  {
   "cell_type": "code",
   "execution_count": 40,
   "id": "aad13d26",
   "metadata": {
    "execution": {
     "iopub.execute_input": "2023-01-29T15:28:29.854529Z",
     "iopub.status.busy": "2023-01-29T15:28:29.853568Z",
     "iopub.status.idle": "2023-01-29T15:28:30.186277Z",
     "shell.execute_reply": "2023-01-29T15:28:30.184014Z"
    },
    "papermill": {
     "duration": 0.375403,
     "end_time": "2023-01-29T15:28:30.192318",
     "exception": false,
     "start_time": "2023-01-29T15:28:29.816915",
     "status": "completed"
    },
    "tags": []
   },
   "outputs": [
    {
     "name": "stdout",
     "output_type": "stream",
     "text": [
      "+-------------+--------+-----------+----------------+\n",
      "|DEPARTMENT_ID|  JOB_ID|sum(SALARY)|sum(EMPLOYEE_ID)|\n",
      "+-------------+--------+-----------+----------------+\n",
      "|           90| AD_PRES|      24000|             100|\n",
      "|           30|  PU_MAN|      11000|             114|\n",
      "|           70|  PR_REP|      10000|             204|\n",
      "|           50|  ST_MAN|      36400|             610|\n",
      "|           40|  HR_REP|       6500|             203|\n",
      "|           60| IT_PROG|      28800|             525|\n",
      "|           10| AD_ASST|       4400|             200|\n",
      "|           30|PU_CLERK|      13900|             585|\n",
      "|           50|ST_CLERK|      44000|            2120|\n",
      "|           20|  MK_REP|       6000|             202|\n",
      "+-------------+--------+-----------+----------------+\n",
      "only showing top 10 rows\n",
      "\n"
     ]
    }
   ],
   "source": [
    "empdf.groupBy(\"DEPARTMENT_ID\",\"JOB_ID\").sum(\"SALARY\", \"EMPLOYEE_ID\").show(10)"
   ]
  },
  {
   "cell_type": "code",
   "execution_count": 41,
   "id": "7a050c2d",
   "metadata": {
    "execution": {
     "iopub.execute_input": "2023-01-29T15:28:30.292098Z",
     "iopub.status.busy": "2023-01-29T15:28:30.291724Z",
     "iopub.status.idle": "2023-01-29T15:28:30.721585Z",
     "shell.execute_reply": "2023-01-29T15:28:30.720284Z"
    },
    "papermill": {
     "duration": 0.476984,
     "end_time": "2023-01-29T15:28:30.725049",
     "exception": false,
     "start_time": "2023-01-29T15:28:30.248065",
     "status": "completed"
    },
    "tags": []
   },
   "outputs": [
    {
     "name": "stdout",
     "output_type": "stream",
     "text": [
      "+-------------+----------+----------+----------+------------------+\n",
      "|DEPARTMENT_ID|SUM_SALARY|MAX_SALARY|MIN_SALARY|        AVG_SALARY|\n",
      "+-------------+----------+----------+----------+------------------+\n",
      "|           20|     19000|     13000|      6000|            9500.0|\n",
      "|           40|      6500|      6500|      6500|            6500.0|\n",
      "|          100|     51608|     12008|      6900| 8601.333333333334|\n",
      "|           10|      4400|      4400|      4400|            4400.0|\n",
      "|           50|     85600|      8200|      2100|3721.7391304347825|\n",
      "|           70|     10000|     10000|     10000|           10000.0|\n",
      "|           90|     58000|     24000|     17000|19333.333333333332|\n",
      "|           60|     28800|      9000|      4200|            5760.0|\n",
      "|          110|     20308|     12008|      8300|           10154.0|\n",
      "|           30|     24900|     11000|      2500|            4150.0|\n",
      "+-------------+----------+----------+----------+------------------+\n",
      "\n"
     ]
    }
   ],
   "source": [
    "empdf.groupBy(\"DEPARTMENT_ID\").agg(sum(\"SALARY\").alias(\"SUM_SALARY\") , max(\"SALARY\").alias(\"MAX_SALARY\"), min(\"SALARY\").alias(\"MIN_SALARY\") , avg(\"SALARY\").alias(\"AVG_SALARY\")).show()"
   ]
  },
  {
   "cell_type": "code",
   "execution_count": 42,
   "id": "54d8b68c",
   "metadata": {
    "execution": {
     "iopub.execute_input": "2023-01-29T15:28:30.833607Z",
     "iopub.status.busy": "2023-01-29T15:28:30.833088Z",
     "iopub.status.idle": "2023-01-29T15:28:31.273061Z",
     "shell.execute_reply": "2023-01-29T15:28:31.271219Z"
    },
    "papermill": {
     "duration": 0.496467,
     "end_time": "2023-01-29T15:28:31.276875",
     "exception": false,
     "start_time": "2023-01-29T15:28:30.780408",
     "status": "completed"
    },
    "tags": []
   },
   "outputs": [
    {
     "name": "stdout",
     "output_type": "stream",
     "text": [
      "+-------------+----------+----------+----------+------------------+\n",
      "|DEPARTMENT_ID|SUM_SALARY|MAX_SALARY|MIN_SALARY|        AVG_SALARY|\n",
      "+-------------+----------+----------+----------+------------------+\n",
      "|           20|     19000|     13000|      6000|            9500.0|\n",
      "|          100|     51608|     12008|      6900| 8601.333333333334|\n",
      "|           70|     10000|     10000|     10000|           10000.0|\n",
      "|           90|     58000|     24000|     17000|19333.333333333332|\n",
      "|          110|     20308|     12008|      8300|           10154.0|\n",
      "|           30|     24900|     11000|      2500|            4150.0|\n",
      "+-------------+----------+----------+----------+------------------+\n",
      "\n"
     ]
    }
   ],
   "source": [
    "empdf.groupBy(\"DEPARTMENT_ID\").agg(sum(\"SALARY\").alias(\"SUM_SALARY\") , max(\"SALARY\").alias(\"MAX_SALARY\"), min(\"SALARY\").alias(\"MIN_SALARY\") , avg(\"SALARY\").alias(\"AVG_SALARY\")).where(col(\"MAX_SALARY\") >= 10000).show()"
   ]
  },
  {
   "cell_type": "code",
   "execution_count": 43,
   "id": "0913ff2e",
   "metadata": {
    "execution": {
     "iopub.execute_input": "2023-01-29T15:28:31.351095Z",
     "iopub.status.busy": "2023-01-29T15:28:31.350666Z",
     "iopub.status.idle": "2023-01-29T15:28:31.602876Z",
     "shell.execute_reply": "2023-01-29T15:28:31.601001Z"
    },
    "papermill": {
     "duration": 0.292798,
     "end_time": "2023-01-29T15:28:31.606158",
     "exception": false,
     "start_time": "2023-01-29T15:28:31.313360",
     "status": "completed"
    },
    "tags": []
   },
   "outputs": [
    {
     "name": "stdout",
     "output_type": "stream",
     "text": [
      "+-------------+----------+----------+----------+------------------+\n",
      "|DEPARTMENT_ID|SUM_SALARY|MAX_SALARY|MIN_SALARY|        AVG_SALARY|\n",
      "+-------------+----------+----------+----------+------------------+\n",
      "|           20|     19000|     13000|      6000|            9500.0|\n",
      "|          100|     51608|     12008|      6900| 8601.333333333334|\n",
      "|           70|     10000|     10000|     10000|           10000.0|\n",
      "|           90|     58000|     24000|     17000|19333.333333333332|\n",
      "|          110|     20308|     12008|      8300|           10154.0|\n",
      "|           30|     24900|     11000|      2500|            4150.0|\n",
      "+-------------+----------+----------+----------+------------------+\n",
      "\n"
     ]
    }
   ],
   "source": [
    "empdf.groupBy(\"DEPARTMENT_ID\").agg(sum(\"SALARY\").alias(\"SUM_SALARY\") , max(\"SALARY\").alias(\"MAX_SALARY\"), min(\"SALARY\").alias(\"MIN_SALARY\") , avg(\"SALARY\").alias(\"AVG_SALARY\")).where(col(\"MAX_SALARY\") >= 10000).show()"
   ]
  },
  {
   "cell_type": "code",
   "execution_count": 44,
   "id": "38d41b76",
   "metadata": {
    "execution": {
     "iopub.execute_input": "2023-01-29T15:28:31.679907Z",
     "iopub.status.busy": "2023-01-29T15:28:31.679525Z",
     "iopub.status.idle": "2023-01-29T15:28:31.704882Z",
     "shell.execute_reply": "2023-01-29T15:28:31.703565Z"
    },
    "papermill": {
     "duration": 0.065498,
     "end_time": "2023-01-29T15:28:31.707883",
     "exception": false,
     "start_time": "2023-01-29T15:28:31.642385",
     "status": "completed"
    },
    "tags": []
   },
   "outputs": [],
   "source": [
    "df = empdf.withColumn(\"EMP_GRADE\", when( col(\"SALARY\") > 15000 , \"A\").when( (col(\"SALARY\") >= 10000) & ( col(\"SALARY\") < 15000), \"B\").otherwise(\"C\"))"
   ]
  },
  {
   "cell_type": "code",
   "execution_count": 45,
   "id": "35973229",
   "metadata": {
    "execution": {
     "iopub.execute_input": "2023-01-29T15:28:31.784427Z",
     "iopub.status.busy": "2023-01-29T15:28:31.783995Z",
     "iopub.status.idle": "2023-01-29T15:28:31.917721Z",
     "shell.execute_reply": "2023-01-29T15:28:31.916029Z"
    },
    "papermill": {
     "duration": 0.174773,
     "end_time": "2023-01-29T15:28:31.921503",
     "exception": false,
     "start_time": "2023-01-29T15:28:31.746730",
     "status": "completed"
    },
    "tags": []
   },
   "outputs": [
    {
     "name": "stdout",
     "output_type": "stream",
     "text": [
      "+-----------+------+---------+\n",
      "|EMPLOYEE_ID|SALARY|EMP_GRADE|\n",
      "+-----------+------+---------+\n",
      "|        198|  2600|        C|\n",
      "|        199|  2600|        C|\n",
      "|        200|  4400|        C|\n",
      "|        201| 13000|        B|\n",
      "|        202|  6000|        C|\n",
      "|        203|  6500|        C|\n",
      "|        204| 10000|        B|\n",
      "|        205| 12008|        B|\n",
      "|        206|  8300|        C|\n",
      "|        100| 24000|        A|\n",
      "+-----------+------+---------+\n",
      "only showing top 10 rows\n",
      "\n"
     ]
    }
   ],
   "source": [
    "df.select(\"EMPLOYEE_ID\", \"SALARY\", \"EMP_GRADE\").show(10)"
   ]
  },
  {
   "cell_type": "code",
   "execution_count": 46,
   "id": "22d1ddbb",
   "metadata": {
    "execution": {
     "iopub.execute_input": "2023-01-29T15:28:31.996786Z",
     "iopub.status.busy": "2023-01-29T15:28:31.996400Z",
     "iopub.status.idle": "2023-01-29T15:28:32.045093Z",
     "shell.execute_reply": "2023-01-29T15:28:32.044173Z"
    },
    "papermill": {
     "duration": 0.089192,
     "end_time": "2023-01-29T15:28:32.047932",
     "exception": false,
     "start_time": "2023-01-29T15:28:31.958740",
     "status": "completed"
    },
    "tags": []
   },
   "outputs": [],
   "source": [
    "empdf.createOrReplaceTempView(\"employee\")"
   ]
  },
  {
   "cell_type": "code",
   "execution_count": 47,
   "id": "dcc56ded",
   "metadata": {
    "execution": {
     "iopub.execute_input": "2023-01-29T15:28:32.125391Z",
     "iopub.status.busy": "2023-01-29T15:28:32.124927Z",
     "iopub.status.idle": "2023-01-29T15:28:32.349633Z",
     "shell.execute_reply": "2023-01-29T15:28:32.347808Z"
    },
    "papermill": {
     "duration": 0.26923,
     "end_time": "2023-01-29T15:28:32.354054",
     "exception": false,
     "start_time": "2023-01-29T15:28:32.084824",
     "status": "completed"
    },
    "tags": []
   },
   "outputs": [
    {
     "name": "stdout",
     "output_type": "stream",
     "text": [
      "+-----------+----------+---------+--------+------------+---------+--------+------+--------------+----------+-------------+\n",
      "|EMPLOYEE_ID|FIRST_NAME|LAST_NAME|   EMAIL|PHONE_NUMBER|HIRE_DATE|  JOB_ID|SALARY|COMMISSION_PCT|MANAGER_ID|DEPARTMENT_ID|\n",
      "+-----------+----------+---------+--------+------------+---------+--------+------+--------------+----------+-------------+\n",
      "|        198|    Donald| OConnell|DOCONNEL|650.507.9833|21-JUN-07|SH_CLERK|  2600|            - |       124|           50|\n",
      "|        199|   Douglas|    Grant|  DGRANT|650.507.9844|13-JAN-08|SH_CLERK|  2600|            - |       124|           50|\n",
      "|        200|  Jennifer|   Whalen| JWHALEN|515.123.4444|17-SEP-03| AD_ASST|  4400|            - |       101|           10|\n",
      "|        201|   Michael|Hartstein|MHARTSTE|515.123.5555|17-FEB-04|  MK_MAN| 13000|            - |       100|           20|\n",
      "|        202|       Pat|      Fay|    PFAY|603.123.6666|17-AUG-05|  MK_REP|  6000|            - |       201|           20|\n",
      "+-----------+----------+---------+--------+------------+---------+--------+------+--------------+----------+-------------+\n",
      "\n"
     ]
    }
   ],
   "source": [
    "spark.sql(\" select * from employee limit 5\").show()"
   ]
  },
  {
   "cell_type": "code",
   "execution_count": 48,
   "id": "d6243d4c",
   "metadata": {
    "execution": {
     "iopub.execute_input": "2023-01-29T15:28:32.472270Z",
     "iopub.status.busy": "2023-01-29T15:28:32.471743Z",
     "iopub.status.idle": "2023-01-29T15:28:32.614878Z",
     "shell.execute_reply": "2023-01-29T15:28:32.613557Z"
    },
    "papermill": {
     "duration": 0.20762,
     "end_time": "2023-01-29T15:28:32.619907",
     "exception": false,
     "start_time": "2023-01-29T15:28:32.412287",
     "status": "completed"
    },
    "tags": []
   },
   "outputs": [
    {
     "name": "stdout",
     "output_type": "stream",
     "text": [
      "+-----------+------+\n",
      "|employee_id|salary|\n",
      "+-----------+------+\n",
      "|        198|  2600|\n",
      "|        199|  2600|\n",
      "|        200|  4400|\n",
      "|        201| 13000|\n",
      "|        202|  6000|\n",
      "|        203|  6500|\n",
      "|        204| 10000|\n",
      "|        205| 12008|\n",
      "|        206|  8300|\n",
      "|        100| 24000|\n",
      "+-----------+------+\n",
      "only showing top 10 rows\n",
      "\n"
     ]
    }
   ],
   "source": [
    "df = spark.sql(\" select employee_id,salary from employee\")\n",
    "df.show(10)"
   ]
  },
  {
   "cell_type": "code",
   "execution_count": 49,
   "id": "772871e9",
   "metadata": {
    "execution": {
     "iopub.execute_input": "2023-01-29T15:28:32.730327Z",
     "iopub.status.busy": "2023-01-29T15:28:32.729791Z",
     "iopub.status.idle": "2023-01-29T15:28:32.955490Z",
     "shell.execute_reply": "2023-01-29T15:28:32.953441Z"
    },
    "papermill": {
     "duration": 0.284066,
     "end_time": "2023-01-29T15:28:32.959142",
     "exception": false,
     "start_time": "2023-01-29T15:28:32.675076",
     "status": "completed"
    },
    "tags": []
   },
   "outputs": [
    {
     "name": "stdout",
     "output_type": "stream",
     "text": [
      "+-------------+----------+\n",
      "|department_id|sum_salary|\n",
      "+-------------+----------+\n",
      "|           20|     19000|\n",
      "|           40|      6500|\n",
      "|          100|     51608|\n",
      "|           10|      4400|\n",
      "|           50|     85600|\n",
      "|           70|     10000|\n",
      "|           90|     58000|\n",
      "|           60|     28800|\n",
      "|          110|     20308|\n",
      "|           30|     24900|\n",
      "+-------------+----------+\n",
      "\n"
     ]
    }
   ],
   "source": [
    "spark.sql(\"select department_id, sum(salary) as sum_salary from employee group by department_id\").show()"
   ]
  },
  {
   "cell_type": "code",
   "execution_count": 50,
   "id": "16d55e46",
   "metadata": {
    "execution": {
     "iopub.execute_input": "2023-01-29T15:28:33.032918Z",
     "iopub.status.busy": "2023-01-29T15:28:33.032532Z",
     "iopub.status.idle": "2023-01-29T15:28:33.414889Z",
     "shell.execute_reply": "2023-01-29T15:28:33.413606Z"
    },
    "papermill": {
     "duration": 0.424444,
     "end_time": "2023-01-29T15:28:33.419756",
     "exception": false,
     "start_time": "2023-01-29T15:28:32.995312",
     "status": "completed"
    },
    "tags": []
   },
   "outputs": [
    {
     "name": "stdout",
     "output_type": "stream",
     "text": [
      "+-----------+-------------+-----------+\n",
      "|employee_id|department_id|rank_salary|\n",
      "+-----------+-------------+-----------+\n",
      "|        200|           10|          1|\n",
      "|        201|           20|          1|\n",
      "|        202|           20|          2|\n",
      "|        114|           30|          1|\n",
      "|        115|           30|          2|\n",
      "|        116|           30|          3|\n",
      "|        117|           30|          4|\n",
      "|        118|           30|          5|\n",
      "|        119|           30|          6|\n",
      "|        203|           40|          1|\n",
      "|        121|           50|          1|\n",
      "|        120|           50|          2|\n",
      "|        122|           50|          3|\n",
      "|        123|           50|          4|\n",
      "|        124|           50|          5|\n",
      "|        137|           50|          6|\n",
      "|        129|           50|          7|\n",
      "|        133|           50|          7|\n",
      "|        125|           50|          9|\n",
      "|        138|           50|          9|\n",
      "+-----------+-------------+-----------+\n",
      "only showing top 20 rows\n",
      "\n"
     ]
    }
   ],
   "source": [
    " spark.sql(\"select employee_id, department_id, rank() over(partition by department_id order by salary desc) as rank_salary from employee\").show()"
   ]
  },
  {
   "cell_type": "code",
   "execution_count": 51,
   "id": "06071b41",
   "metadata": {
    "execution": {
     "iopub.execute_input": "2023-01-29T15:28:33.499068Z",
     "iopub.status.busy": "2023-01-29T15:28:33.497369Z",
     "iopub.status.idle": "2023-01-29T15:28:33.837358Z",
     "shell.execute_reply": "2023-01-29T15:28:33.836179Z"
    },
    "papermill": {
     "duration": 0.383037,
     "end_time": "2023-01-29T15:28:33.841528",
     "exception": false,
     "start_time": "2023-01-29T15:28:33.458491",
     "status": "completed"
    },
    "tags": []
   },
   "outputs": [
    {
     "name": "stdout",
     "output_type": "stream",
     "text": [
      "+-----------+----------+---------+--------+------------+---------+----------+------+--------------+----------+-------------+-------------+----------------+----------+-----------+\n",
      "|EMPLOYEE_ID|FIRST_NAME|LAST_NAME|   EMAIL|PHONE_NUMBER|HIRE_DATE|    JOB_ID|SALARY|COMMISSION_PCT|MANAGER_ID|DEPARTMENT_ID|DEPARTMENT_ID| DEPARTMENT_NAME|MANAGER_ID|LOCATION_ID|\n",
      "+-----------+----------+---------+--------+------------+---------+----------+------+--------------+----------+-------------+-------------+----------------+----------+-----------+\n",
      "|        198|    Donald| OConnell|DOCONNEL|650.507.9833|21-JUN-07|  SH_CLERK|  2600|            - |       124|           50|           50|        Shipping|       121|       1500|\n",
      "|        199|   Douglas|    Grant|  DGRANT|650.507.9844|13-JAN-08|  SH_CLERK|  2600|            - |       124|           50|           50|        Shipping|       121|       1500|\n",
      "|        200|  Jennifer|   Whalen| JWHALEN|515.123.4444|17-SEP-03|   AD_ASST|  4400|            - |       101|           10|           10|  Administration|       200|       1700|\n",
      "|        201|   Michael|Hartstein|MHARTSTE|515.123.5555|17-FEB-04|    MK_MAN| 13000|            - |       100|           20|           20|       Marketing|       201|       1800|\n",
      "|        202|       Pat|      Fay|    PFAY|603.123.6666|17-AUG-05|    MK_REP|  6000|            - |       201|           20|           20|       Marketing|       201|       1800|\n",
      "|        203|     Susan|   Mavris| SMAVRIS|515.123.7777|07-JUN-02|    HR_REP|  6500|            - |       101|           40|           40| Human Resources|       203|       2400|\n",
      "|        204|   Hermann|     Baer|   HBAER|515.123.8888|07-JUN-02|    PR_REP| 10000|            - |       101|           70|           70|Public Relations|       204|       2700|\n",
      "|        205|   Shelley|  Higgins|SHIGGINS|515.123.8080|07-JUN-02|    AC_MGR| 12008|            - |       101|          110|          110|      Accounting|       205|       1700|\n",
      "|        206|   William|    Gietz|  WGIETZ|515.123.8181|07-JUN-02|AC_ACCOUNT|  8300|            - |       205|          110|          110|      Accounting|       205|       1700|\n",
      "|        100|    Steven|     King|   SKING|515.123.4567|17-JUN-03|   AD_PRES| 24000|            - |        - |           90|           90|       Executive|       100|       1700|\n",
      "|        101|     Neena|  Kochhar|NKOCHHAR|515.123.4568|21-SEP-05|     AD_VP| 17000|            - |       100|           90|           90|       Executive|       100|       1700|\n",
      "|        102|       Lex|  De Haan| LDEHAAN|515.123.4569|13-JAN-01|     AD_VP| 17000|            - |       100|           90|           90|       Executive|       100|       1700|\n",
      "|        103| Alexander|   Hunold| AHUNOLD|590.423.4567|03-JAN-06|   IT_PROG|  9000|            - |       102|           60|           60|              IT|       103|       1400|\n",
      "|        104|     Bruce|    Ernst|  BERNST|590.423.4568|21-MAY-07|   IT_PROG|  6000|            - |       103|           60|           60|              IT|       103|       1400|\n",
      "|        105|     David|   Austin| DAUSTIN|590.423.4569|25-JUN-05|   IT_PROG|  4800|            - |       103|           60|           60|              IT|       103|       1400|\n",
      "|        106|     Valli|Pataballa|VPATABAL|590.423.4560|05-FEB-06|   IT_PROG|  4800|            - |       103|           60|           60|              IT|       103|       1400|\n",
      "|        107|     Diana|  Lorentz|DLORENTZ|590.423.5567|07-FEB-07|   IT_PROG|  4200|            - |       103|           60|           60|              IT|       103|       1400|\n",
      "|        108|     Nancy|Greenberg|NGREENBE|515.124.4569|17-AUG-02|    FI_MGR| 12008|            - |       101|          100|          100|         Finance|       108|       1700|\n",
      "|        109|    Daniel|   Faviet| DFAVIET|515.124.4169|16-AUG-02|FI_ACCOUNT|  9000|            - |       108|          100|          100|         Finance|       108|       1700|\n",
      "|        110|      John|     Chen|   JCHEN|515.124.4269|28-SEP-05|FI_ACCOUNT|  8200|            - |       108|          100|          100|         Finance|       108|       1700|\n",
      "+-----------+----------+---------+--------+------------+---------+----------+------+--------------+----------+-------------+-------------+----------------+----------+-----------+\n",
      "only showing top 20 rows\n",
      "\n"
     ]
    }
   ],
   "source": [
    "empdf.join(deptdf, empdf.DEPARTMENT_ID == deptdf.DEPARTMENT_ID, \"inner\").show()"
   ]
  },
  {
   "cell_type": "code",
   "execution_count": 52,
   "id": "54f007c5",
   "metadata": {
    "execution": {
     "iopub.execute_input": "2023-01-29T15:28:33.918494Z",
     "iopub.status.busy": "2023-01-29T15:28:33.917742Z",
     "iopub.status.idle": "2023-01-29T15:28:34.131509Z",
     "shell.execute_reply": "2023-01-29T15:28:34.129742Z"
    },
    "papermill": {
     "duration": 0.256316,
     "end_time": "2023-01-29T15:28:34.135226",
     "exception": false,
     "start_time": "2023-01-29T15:28:33.878910",
     "status": "completed"
    },
    "tags": []
   },
   "outputs": [
    {
     "name": "stdout",
     "output_type": "stream",
     "text": [
      "+-----------+-------------+----------------+\n",
      "|EMPLOYEE_ID|DEPARTMENT_ID| DEPARTMENT_NAME|\n",
      "+-----------+-------------+----------------+\n",
      "|        198|           50|        Shipping|\n",
      "|        199|           50|        Shipping|\n",
      "|        200|           10|  Administration|\n",
      "|        201|           20|       Marketing|\n",
      "|        202|           20|       Marketing|\n",
      "|        203|           40| Human Resources|\n",
      "|        204|           70|Public Relations|\n",
      "|        205|          110|      Accounting|\n",
      "|        206|          110|      Accounting|\n",
      "|        100|           90|       Executive|\n",
      "+-----------+-------------+----------------+\n",
      "only showing top 10 rows\n",
      "\n"
     ]
    }
   ],
   "source": [
    " empdf.join(deptdf, empdf.DEPARTMENT_ID == deptdf.DEPARTMENT_ID, \"left\").select(empdf.EMPLOYEE_ID, empdf.DEPARTMENT_ID, deptdf.DEPARTMENT_NAME).show(10)"
   ]
  },
  {
   "cell_type": "code",
   "execution_count": 53,
   "id": "895014be",
   "metadata": {
    "execution": {
     "iopub.execute_input": "2023-01-29T15:28:34.212041Z",
     "iopub.status.busy": "2023-01-29T15:28:34.211292Z",
     "iopub.status.idle": "2023-01-29T15:28:34.346894Z",
     "shell.execute_reply": "2023-01-29T15:28:34.345485Z"
    },
    "papermill": {
     "duration": 0.186636,
     "end_time": "2023-01-29T15:28:34.358944",
     "exception": false,
     "start_time": "2023-01-29T15:28:34.172308",
     "status": "completed"
    },
    "tags": []
   },
   "outputs": [
    {
     "name": "stdout",
     "output_type": "stream",
     "text": [
      "+-------------+--------------------+----------+-----------+\n",
      "|DEPARTMENT_ID|     DEPARTMENT_NAME|MANAGER_ID|LOCATION_ID|\n",
      "+-------------+--------------------+----------+-----------+\n",
      "|           10|      Administration|       200|       1700|\n",
      "|           20|           Marketing|       201|       1800|\n",
      "|           30|          Purchasing|       114|       1700|\n",
      "|           40|     Human Resources|       203|       2400|\n",
      "|           50|            Shipping|       121|       1500|\n",
      "|           60|                  IT|       103|       1400|\n",
      "|           70|    Public Relations|       204|       2700|\n",
      "|           80|               Sales|       145|       2500|\n",
      "|           90|           Executive|       100|       1700|\n",
      "|          100|             Finance|       108|       1700|\n",
      "|          110|          Accounting|       205|       1700|\n",
      "|          120|            Treasury|        - |       1700|\n",
      "|          130|       Corporate Tax|        - |       1700|\n",
      "|          140|  Control And Credit|        - |       1700|\n",
      "|          150|Shareholder Services|        - |       1700|\n",
      "|          160|            Benefits|        - |       1700|\n",
      "|          170|       Manufacturing|        - |       1700|\n",
      "|          180|        Construction|        - |       1700|\n",
      "|          190|         Contracting|        - |       1700|\n",
      "|          200|          Operations|        - |       1700|\n",
      "+-------------+--------------------+----------+-----------+\n",
      "only showing top 20 rows\n",
      "\n"
     ]
    }
   ],
   "source": [
    "deptdf.show()"
   ]
  },
  {
   "cell_type": "code",
   "execution_count": 54,
   "id": "7a84ecda",
   "metadata": {
    "execution": {
     "iopub.execute_input": "2023-01-29T15:28:34.506959Z",
     "iopub.status.busy": "2023-01-29T15:28:34.506526Z",
     "iopub.status.idle": "2023-01-29T15:28:34.617489Z",
     "shell.execute_reply": "2023-01-29T15:28:34.616183Z"
    },
    "papermill": {
     "duration": 0.158359,
     "end_time": "2023-01-29T15:28:34.623276",
     "exception": false,
     "start_time": "2023-01-29T15:28:34.464917",
     "status": "completed"
    },
    "tags": []
   },
   "outputs": [
    {
     "name": "stdout",
     "output_type": "stream",
     "text": [
      "+-------------+--------------------+----------+-----------+\n",
      "|DEPARTMENT_ID|     DEPARTMENT_NAME|MANAGER_ID|LOCATION_ID|\n",
      "+-------------+--------------------+----------+-----------+\n",
      "|           10|      Administration|       200|       1700|\n",
      "|           20|           Marketing|       201|       1800|\n",
      "|           30|          Purchasing|       114|       1700|\n",
      "|           40|     Human Resources|       203|       2400|\n",
      "|           50|            Shipping|       121|       1500|\n",
      "|           60|                  IT|       103|       1400|\n",
      "|           70|    Public Relations|       204|       2700|\n",
      "|           80|               Sales|       145|       2500|\n",
      "|           90|           Executive|       100|       1700|\n",
      "|          100|             Finance|       108|       1700|\n",
      "|          110|          Accounting|       205|       1700|\n",
      "|          120|            Treasury|        - |       1700|\n",
      "|          130|       Corporate Tax|        - |       1700|\n",
      "|          140|  Control And Credit|        - |       1700|\n",
      "|          150|Shareholder Services|        - |       1700|\n",
      "|          160|            Benefits|        - |       1700|\n",
      "|          170|       Manufacturing|        - |       1700|\n",
      "|          180|        Construction|        - |       1700|\n",
      "|          190|         Contracting|        - |       1700|\n",
      "|          200|          Operations|        - |       1700|\n",
      "+-------------+--------------------+----------+-----------+\n",
      "only showing top 20 rows\n",
      "\n"
     ]
    }
   ],
   "source": [
    "deptdf.filter(deptdf.MANAGER_ID != \"-\").show()"
   ]
  },
  {
   "cell_type": "code",
   "execution_count": 55,
   "id": "f00f35b5",
   "metadata": {
    "execution": {
     "iopub.execute_input": "2023-01-29T15:28:34.723633Z",
     "iopub.status.busy": "2023-01-29T15:28:34.723068Z",
     "iopub.status.idle": "2023-01-29T15:28:35.011817Z",
     "shell.execute_reply": "2023-01-29T15:28:35.010558Z"
    },
    "papermill": {
     "duration": 0.335493,
     "end_time": "2023-01-29T15:28:35.015701",
     "exception": false,
     "start_time": "2023-01-29T15:28:34.680208",
     "status": "completed"
    },
    "tags": []
   },
   "outputs": [
    {
     "name": "stdout",
     "output_type": "stream",
     "text": [
      "+----------+----------+---------+\n",
      "|manager_id|first_name|last_name|\n",
      "+----------+----------+---------+\n",
      "|       201|   Michael|Hartstein|\n",
      "|       205|   Shelley|  Higgins|\n",
      "|       100|    Steven|     King|\n",
      "|       100|    Steven|     King|\n",
      "|       100|    Steven|     King|\n",
      "|       100|    Steven|     King|\n",
      "|       100|    Steven|     King|\n",
      "|       100|    Steven|     King|\n",
      "|       100|    Steven|     King|\n",
      "|       100|    Steven|     King|\n",
      "+----------+----------+---------+\n",
      "only showing top 10 rows\n",
      "\n"
     ]
    }
   ],
   "source": [
    "empdf.alias(\"emp1\").join(empdf.alias(\"emp2\") , col(\"emp1.manager_id\") == col(\"emp2.employee_id\"), \"inner\").select(col(\"emp1.manager_id\"), col(\"emp2.first_name\"), col(\"emp2.last_name\")).show(10)"
   ]
  },
  {
   "cell_type": "code",
   "execution_count": 56,
   "id": "0b763df5",
   "metadata": {
    "execution": {
     "iopub.execute_input": "2023-01-29T15:28:35.094633Z",
     "iopub.status.busy": "2023-01-29T15:28:35.094182Z",
     "iopub.status.idle": "2023-01-29T15:28:35.368280Z",
     "shell.execute_reply": "2023-01-29T15:28:35.367072Z"
    },
    "papermill": {
     "duration": 0.319547,
     "end_time": "2023-01-29T15:28:35.373519",
     "exception": false,
     "start_time": "2023-01-29T15:28:35.053972",
     "status": "completed"
    },
    "tags": []
   },
   "outputs": [
    {
     "name": "stdout",
     "output_type": "stream",
     "text": [
      "+-----------+----------+---------+\n",
      "|employee_id|first_name|last_name|\n",
      "+-----------+----------+---------+\n",
      "|        202|   Michael|Hartstein|\n",
      "|        206|   Shelley|  Higgins|\n",
      "|        124|    Steven|     King|\n",
      "|        123|    Steven|     King|\n",
      "|        122|    Steven|     King|\n",
      "|        121|    Steven|     King|\n",
      "|        120|    Steven|     King|\n",
      "|        114|    Steven|     King|\n",
      "|        102|    Steven|     King|\n",
      "|        101|    Steven|     King|\n",
      "+-----------+----------+---------+\n",
      "only showing top 10 rows\n",
      "\n"
     ]
    }
   ],
   "source": [
    "empdf.alias(\"emp1\").join(empdf.alias(\"emp2\") , col(\"emp1.manager_id\") == col(\"emp2.employee_id\"), \"inner\").select(col(\"emp1.employee_id\"), col(\"emp2.first_name\"), col(\"emp2.last_name\")).show(10)"
   ]
  },
  {
   "cell_type": "code",
   "execution_count": 57,
   "id": "431e8137",
   "metadata": {
    "execution": {
     "iopub.execute_input": "2023-01-29T15:28:35.488553Z",
     "iopub.status.busy": "2023-01-29T15:28:35.488012Z",
     "iopub.status.idle": "2023-01-29T15:28:35.757794Z",
     "shell.execute_reply": "2023-01-29T15:28:35.756530Z"
    },
    "papermill": {
     "duration": 0.344164,
     "end_time": "2023-01-29T15:28:35.774600",
     "exception": false,
     "start_time": "2023-01-29T15:28:35.430436",
     "status": "completed"
    },
    "tags": []
   },
   "outputs": [
    {
     "name": "stdout",
     "output_type": "stream",
     "text": [
      "+-----------+-------------+-------------+---------------+\n",
      "|EMPLOYEE_ID|DEPARTMENT_ID|DEPARTMENT_ID|DEPARTMENT_NAME|\n",
      "+-----------+-------------+-------------+---------------+\n",
      "|        200|           10|           10| Administration|\n",
      "|        119|           30|           30|     Purchasing|\n",
      "|        118|           30|           30|     Purchasing|\n",
      "|        117|           30|           30|     Purchasing|\n",
      "|        116|           30|           30|     Purchasing|\n",
      "|        115|           30|           30|     Purchasing|\n",
      "|        114|           30|           30|     Purchasing|\n",
      "|        102|           90|           90|      Executive|\n",
      "|        101|           90|           90|      Executive|\n",
      "|        100|           90|           90|      Executive|\n",
      "|        113|          100|          100|        Finance|\n",
      "|        112|          100|          100|        Finance|\n",
      "|        111|          100|          100|        Finance|\n",
      "|        110|          100|          100|        Finance|\n",
      "|        109|          100|          100|        Finance|\n",
      "|        108|          100|          100|        Finance|\n",
      "|        206|          110|          110|     Accounting|\n",
      "|        205|          110|          110|     Accounting|\n",
      "+-----------+-------------+-------------+---------------+\n",
      "\n"
     ]
    }
   ],
   "source": [
    "empdf.join(deptdf, (empdf.DEPARTMENT_ID == deptdf.DEPARTMENT_ID) & (deptdf.LOCATION_ID == 1700), \"inner\").select(empdf.EMPLOYEE_ID, empdf.DEPARTMENT_ID, deptdf.DEPARTMENT_ID, deptdf.DEPARTMENT_NAME).show()"
   ]
  },
  {
   "cell_type": "code",
   "execution_count": 58,
   "id": "8ce383ce",
   "metadata": {
    "execution": {
     "iopub.execute_input": "2023-01-29T15:28:35.861204Z",
     "iopub.status.busy": "2023-01-29T15:28:35.860670Z",
     "iopub.status.idle": "2023-01-29T15:28:35.897364Z",
     "shell.execute_reply": "2023-01-29T15:28:35.896300Z"
    },
    "papermill": {
     "duration": 0.078455,
     "end_time": "2023-01-29T15:28:35.900723",
     "exception": false,
     "start_time": "2023-01-29T15:28:35.822268",
     "status": "completed"
    },
    "tags": []
   },
   "outputs": [
    {
     "name": "stdout",
     "output_type": "stream",
     "text": [
      "root\n",
      " |-- LOCATION_ID: integer (nullable = true)\n",
      " |-- LOCATION_NAME: string (nullable = true)\n",
      "\n"
     ]
    }
   ],
   "source": [
    "from pyspark.sql.types import StructType,StructField, StringType, IntegerType\n",
    "location_data = [(1700, \"INDIA\"), (1800, \"USA\")]\n",
    "schema = StructType([ StructField(\"LOCATION_ID\",IntegerType(),True), StructField(\"LOCATION_NAME\",StringType(),True) ])\n",
    "locDf = spark.createDataFrame(data=location_data,schema=schema)\n",
    "locDf.printSchema()"
   ]
  },
  {
   "cell_type": "code",
   "execution_count": 59,
   "id": "cc54f479",
   "metadata": {
    "execution": {
     "iopub.execute_input": "2023-01-29T15:28:35.978958Z",
     "iopub.status.busy": "2023-01-29T15:28:35.977836Z",
     "iopub.status.idle": "2023-01-29T15:28:36.162138Z",
     "shell.execute_reply": "2023-01-29T15:28:36.160855Z"
    },
    "papermill": {
     "duration": 0.234394,
     "end_time": "2023-01-29T15:28:36.172705",
     "exception": false,
     "start_time": "2023-01-29T15:28:35.938311",
     "status": "completed"
    },
    "tags": []
   },
   "outputs": [
    {
     "name": "stdout",
     "output_type": "stream",
     "text": [
      "+-----------+-------------+\n",
      "|LOCATION_ID|LOCATION_NAME|\n",
      "+-----------+-------------+\n",
      "|       1700|        INDIA|\n",
      "|       1800|          USA|\n",
      "+-----------+-------------+\n",
      "\n"
     ]
    }
   ],
   "source": [
    "locDf.show()"
   ]
  },
  {
   "cell_type": "code",
   "execution_count": 60,
   "id": "4f7848f5",
   "metadata": {
    "execution": {
     "iopub.execute_input": "2023-01-29T15:28:36.259324Z",
     "iopub.status.busy": "2023-01-29T15:28:36.258118Z",
     "iopub.status.idle": "2023-01-29T15:28:36.728056Z",
     "shell.execute_reply": "2023-01-29T15:28:36.725846Z"
    },
    "papermill": {
     "duration": 0.513279,
     "end_time": "2023-01-29T15:28:36.731574",
     "exception": false,
     "start_time": "2023-01-29T15:28:36.218295",
     "status": "completed"
    },
    "tags": []
   },
   "outputs": [
    {
     "name": "stdout",
     "output_type": "stream",
     "text": [
      "+-----------+-------------+---------------+-------------+\n",
      "|EMPLOYEE_ID|DEPARTMENT_ID|DEPARTMENT_NAME|LOCATION_NAME|\n",
      "+-----------+-------------+---------------+-------------+\n",
      "|        205|          110|     Accounting|        INDIA|\n",
      "|        206|          110|     Accounting|        INDIA|\n",
      "|        108|          100|        Finance|        INDIA|\n",
      "|        109|          100|        Finance|        INDIA|\n",
      "|        110|          100|        Finance|        INDIA|\n",
      "|        111|          100|        Finance|        INDIA|\n",
      "|        112|          100|        Finance|        INDIA|\n",
      "|        113|          100|        Finance|        INDIA|\n",
      "|        100|           90|      Executive|        INDIA|\n",
      "|        101|           90|      Executive|        INDIA|\n",
      "|        102|           90|      Executive|        INDIA|\n",
      "|        114|           30|     Purchasing|        INDIA|\n",
      "|        115|           30|     Purchasing|        INDIA|\n",
      "|        116|           30|     Purchasing|        INDIA|\n",
      "|        117|           30|     Purchasing|        INDIA|\n",
      "|        118|           30|     Purchasing|        INDIA|\n",
      "|        119|           30|     Purchasing|        INDIA|\n",
      "|        200|           10| Administration|        INDIA|\n",
      "+-----------+-------------+---------------+-------------+\n",
      "\n"
     ]
    }
   ],
   "source": [
    "empdf.join(deptdf, (empdf.DEPARTMENT_ID == deptdf.DEPARTMENT_ID) & (deptdf.LOCATION_ID == 1700), \"inner\").join(locDf, deptdf.LOCATION_ID == locDf.LOCATION_ID, \"inner\").select(empdf.EMPLOYEE_ID, empdf.DEPARTMENT_ID, deptdf.DEPARTMENT_NAME, locDf.LOCATION_NAME).show()"
   ]
  },
  {
   "cell_type": "code",
   "execution_count": 61,
   "id": "261ba9db",
   "metadata": {
    "execution": {
     "iopub.execute_input": "2023-01-29T15:28:36.815906Z",
     "iopub.status.busy": "2023-01-29T15:28:36.815528Z",
     "iopub.status.idle": "2023-01-29T15:28:36.820763Z",
     "shell.execute_reply": "2023-01-29T15:28:36.819530Z"
    },
    "papermill": {
     "duration": 0.046318,
     "end_time": "2023-01-29T15:28:36.823206",
     "exception": false,
     "start_time": "2023-01-29T15:28:36.776888",
     "status": "completed"
    },
    "tags": []
   },
   "outputs": [],
   "source": [
    "def upperCase(in_str):\n",
    "     out_str = in_str.upper()\n",
    "     return out_str"
   ]
  },
  {
   "cell_type": "code",
   "execution_count": 62,
   "id": "6d940af2",
   "metadata": {
    "execution": {
     "iopub.execute_input": "2023-01-29T15:28:36.900433Z",
     "iopub.status.busy": "2023-01-29T15:28:36.899601Z",
     "iopub.status.idle": "2023-01-29T15:28:36.906237Z",
     "shell.execute_reply": "2023-01-29T15:28:36.904765Z"
    },
    "papermill": {
     "duration": 0.048789,
     "end_time": "2023-01-29T15:28:36.909460",
     "exception": false,
     "start_time": "2023-01-29T15:28:36.860671",
     "status": "completed"
    },
    "tags": []
   },
   "outputs": [
    {
     "name": "stdout",
     "output_type": "stream",
     "text": [
      "HELLO\n"
     ]
    }
   ],
   "source": [
    "print(upperCase(\"hello\"))"
   ]
  },
  {
   "cell_type": "markdown",
   "id": "7da71abb",
   "metadata": {
    "papermill": {
     "duration": 0.03878,
     "end_time": "2023-01-29T15:28:36.986179",
     "exception": false,
     "start_time": "2023-01-29T15:28:36.947399",
     "status": "completed"
    },
    "tags": []
   },
   "source": [
    "UDF"
   ]
  },
  {
   "cell_type": "code",
   "execution_count": 63,
   "id": "991d2c07",
   "metadata": {
    "execution": {
     "iopub.execute_input": "2023-01-29T15:28:37.067331Z",
     "iopub.status.busy": "2023-01-29T15:28:37.066391Z",
     "iopub.status.idle": "2023-01-29T15:28:37.991940Z",
     "shell.execute_reply": "2023-01-29T15:28:37.990767Z"
    },
    "papermill": {
     "duration": 0.970917,
     "end_time": "2023-01-29T15:28:37.996081",
     "exception": false,
     "start_time": "2023-01-29T15:28:37.025164",
     "status": "completed"
    },
    "tags": []
   },
   "outputs": [
    {
     "name": "stdout",
     "output_type": "stream",
     "text": [
      "+-----------+----------+---------+--------------------+-------------------+\n",
      "|EMPLOYEE_ID|FIRST_NAME|LAST_NAME|<lambda>(FIRST_NAME)|<lambda>(LAST_NAME)|\n",
      "+-----------+----------+---------+--------------------+-------------------+\n",
      "|        198|    Donald| OConnell|              DONALD|           OCONNELL|\n",
      "|        199|   Douglas|    Grant|             DOUGLAS|              GRANT|\n",
      "|        200|  Jennifer|   Whalen|            JENNIFER|             WHALEN|\n",
      "|        201|   Michael|Hartstein|             MICHAEL|          HARTSTEIN|\n",
      "|        202|       Pat|      Fay|                 PAT|                FAY|\n",
      "|        203|     Susan|   Mavris|               SUSAN|             MAVRIS|\n",
      "|        204|   Hermann|     Baer|             HERMANN|               BAER|\n",
      "|        205|   Shelley|  Higgins|             SHELLEY|            HIGGINS|\n",
      "|        206|   William|    Gietz|             WILLIAM|              GIETZ|\n",
      "|        100|    Steven|     King|              STEVEN|               KING|\n",
      "|        101|     Neena|  Kochhar|               NEENA|            KOCHHAR|\n",
      "|        102|       Lex|  De Haan|                 LEX|            DE HAAN|\n",
      "|        103| Alexander|   Hunold|           ALEXANDER|             HUNOLD|\n",
      "|        104|     Bruce|    Ernst|               BRUCE|              ERNST|\n",
      "|        105|     David|   Austin|               DAVID|             AUSTIN|\n",
      "|        106|     Valli|Pataballa|               VALLI|          PATABALLA|\n",
      "|        107|     Diana|  Lorentz|               DIANA|            LORENTZ|\n",
      "|        108|     Nancy|Greenberg|               NANCY|          GREENBERG|\n",
      "|        109|    Daniel|   Faviet|              DANIEL|             FAVIET|\n",
      "|        110|      John|     Chen|                JOHN|               CHEN|\n",
      "+-----------+----------+---------+--------------------+-------------------+\n",
      "only showing top 20 rows\n",
      "\n"
     ]
    },
    {
     "name": "stderr",
     "output_type": "stream",
     "text": [
      "                                                                                \r"
     ]
    }
   ],
   "source": [
    "upperCaseUDF = udf(lambda z : upperCase(z) , StringType())\n",
    "empdf.select(col(\"EMPLOYEE_ID\") , col(\"FIRST_NAME\"), col(\"LAST_NAME\"), upperCaseUDF(col(\"FIRST_NAME\")), upperCaseUDF(col(\"LAST_NAME\"))).show()"
   ]
  },
  {
   "cell_type": "code",
   "execution_count": 64,
   "id": "c518eb37",
   "metadata": {
    "execution": {
     "iopub.execute_input": "2023-01-29T15:28:38.078389Z",
     "iopub.status.busy": "2023-01-29T15:28:38.077950Z",
     "iopub.status.idle": "2023-01-29T15:28:38.083430Z",
     "shell.execute_reply": "2023-01-29T15:28:38.082251Z"
    },
    "papermill": {
     "duration": 0.04758,
     "end_time": "2023-01-29T15:28:38.085797",
     "exception": false,
     "start_time": "2023-01-29T15:28:38.038217",
     "status": "completed"
    },
    "tags": []
   },
   "outputs": [],
   "source": [
    "@udf(returnType=StringType())\n",
    "def upperCaseNew(in_str):\n",
    "    out_str = in_str.upper()\n",
    "    return out_str"
   ]
  },
  {
   "cell_type": "code",
   "execution_count": 65,
   "id": "5f02b691",
   "metadata": {
    "execution": {
     "iopub.execute_input": "2023-01-29T15:28:38.165426Z",
     "iopub.status.busy": "2023-01-29T15:28:38.165007Z",
     "iopub.status.idle": "2023-01-29T15:28:38.338616Z",
     "shell.execute_reply": "2023-01-29T15:28:38.337216Z"
    },
    "papermill": {
     "duration": 0.216442,
     "end_time": "2023-01-29T15:28:38.341809",
     "exception": false,
     "start_time": "2023-01-29T15:28:38.125367",
     "status": "completed"
    },
    "tags": []
   },
   "outputs": [
    {
     "name": "stdout",
     "output_type": "stream",
     "text": [
      "+-----------+----------+---------+------------------------+-----------------------+\n",
      "|EMPLOYEE_ID|FIRST_NAME|LAST_NAME|upperCaseNew(FIRST_NAME)|upperCaseNew(LAST_NAME)|\n",
      "+-----------+----------+---------+------------------------+-----------------------+\n",
      "|        198|    Donald| OConnell|                  DONALD|               OCONNELL|\n",
      "|        199|   Douglas|    Grant|                 DOUGLAS|                  GRANT|\n",
      "|        200|  Jennifer|   Whalen|                JENNIFER|                 WHALEN|\n",
      "|        201|   Michael|Hartstein|                 MICHAEL|              HARTSTEIN|\n",
      "|        202|       Pat|      Fay|                     PAT|                    FAY|\n",
      "|        203|     Susan|   Mavris|                   SUSAN|                 MAVRIS|\n",
      "|        204|   Hermann|     Baer|                 HERMANN|                   BAER|\n",
      "|        205|   Shelley|  Higgins|                 SHELLEY|                HIGGINS|\n",
      "|        206|   William|    Gietz|                 WILLIAM|                  GIETZ|\n",
      "|        100|    Steven|     King|                  STEVEN|                   KING|\n",
      "|        101|     Neena|  Kochhar|                   NEENA|                KOCHHAR|\n",
      "|        102|       Lex|  De Haan|                     LEX|                DE HAAN|\n",
      "|        103| Alexander|   Hunold|               ALEXANDER|                 HUNOLD|\n",
      "|        104|     Bruce|    Ernst|                   BRUCE|                  ERNST|\n",
      "|        105|     David|   Austin|                   DAVID|                 AUSTIN|\n",
      "|        106|     Valli|Pataballa|                   VALLI|              PATABALLA|\n",
      "|        107|     Diana|  Lorentz|                   DIANA|                LORENTZ|\n",
      "|        108|     Nancy|Greenberg|                   NANCY|              GREENBERG|\n",
      "|        109|    Daniel|   Faviet|                  DANIEL|                 FAVIET|\n",
      "|        110|      John|     Chen|                    JOHN|                   CHEN|\n",
      "+-----------+----------+---------+------------------------+-----------------------+\n",
      "only showing top 20 rows\n",
      "\n"
     ]
    }
   ],
   "source": [
    "empdf.select(col(\"EMPLOYEE_ID\") , col(\"FIRST_NAME\"), col(\"LAST_NAME\"), upperCaseNew(col(\"FIRST_NAME\")), upperCaseNew(col(\"LAST_NAME\"))).show()"
   ]
  },
  {
   "cell_type": "code",
   "execution_count": 66,
   "id": "5dfd14da",
   "metadata": {
    "execution": {
     "iopub.execute_input": "2023-01-29T15:28:38.419335Z",
     "iopub.status.busy": "2023-01-29T15:28:38.418933Z",
     "iopub.status.idle": "2023-01-29T15:28:38.779482Z",
     "shell.execute_reply": "2023-01-29T15:28:38.778268Z"
    },
    "papermill": {
     "duration": 0.402413,
     "end_time": "2023-01-29T15:28:38.782630",
     "exception": false,
     "start_time": "2023-01-29T15:28:38.380217",
     "status": "completed"
    },
    "tags": []
   },
   "outputs": [
    {
     "name": "stdout",
     "output_type": "stream",
     "text": [
      "+-------------+------+-----------+\n",
      "|DEPARTMENT_ID|SALARY|salary_rank|\n",
      "+-------------+------+-----------+\n",
      "|           10|  4400|          1|\n",
      "|           20|  6000|          1|\n",
      "|           20| 13000|          2|\n",
      "|           30|  2500|          1|\n",
      "|           30|  2600|          2|\n",
      "|           30|  2800|          3|\n",
      "|           30|  2900|          4|\n",
      "|           30|  3100|          5|\n",
      "|           30| 11000|          6|\n",
      "|           40|  6500|          1|\n",
      "+-------------+------+-----------+\n",
      "only showing top 10 rows\n",
      "\n"
     ]
    }
   ],
   "source": [
    "from pyspark.sql.window import Window\n",
    "windowSpec = Window.partitionBy(\"DEPARTMENT_ID\").orderBy(\"SALARY\")\n",
    "empdf.withColumn(\"salary_rank\", rank().over(windowSpec)).select(\"DEPARTMENT_ID\",\"SALARY\",\"salary_rank\").show(10)"
   ]
  },
  {
   "cell_type": "code",
   "execution_count": 67,
   "id": "63abe5ac",
   "metadata": {
    "execution": {
     "iopub.execute_input": "2023-01-29T15:28:38.858929Z",
     "iopub.status.busy": "2023-01-29T15:28:38.858547Z",
     "iopub.status.idle": "2023-01-29T15:28:39.035463Z",
     "shell.execute_reply": "2023-01-29T15:28:39.034298Z"
    },
    "papermill": {
     "duration": 0.221046,
     "end_time": "2023-01-29T15:28:39.041053",
     "exception": false,
     "start_time": "2023-01-29T15:28:38.820007",
     "status": "completed"
    },
    "tags": []
   },
   "outputs": [
    {
     "name": "stdout",
     "output_type": "stream",
     "text": [
      "+-------------+------+-----------+\n",
      "|DEPARTMENT_ID|SALARY|salary_rank|\n",
      "+-------------+------+-----------+\n",
      "|           10|  4400|          1|\n",
      "|           20| 13000|          1|\n",
      "|           20|  6000|          2|\n",
      "|           30| 11000|          1|\n",
      "|           30|  3100|          2|\n",
      "|           30|  2900|          3|\n",
      "|           30|  2800|          4|\n",
      "|           30|  2600|          5|\n",
      "|           30|  2500|          6|\n",
      "|           40|  6500|          1|\n",
      "+-------------+------+-----------+\n",
      "only showing top 10 rows\n",
      "\n"
     ]
    }
   ],
   "source": [
    "windowSpec = Window.partitionBy(\"DEPARTMENT_ID\").orderBy(col(\"SALARY\").desc())\n",
    "empdf.withColumn(\"salary_rank\", rank().over(windowSpec)).select(\"DEPARTMENT_ID\",\"SALARY\",\"salary_rank\").show(10)"
   ]
  },
  {
   "cell_type": "code",
   "execution_count": 68,
   "id": "0b4df728",
   "metadata": {
    "execution": {
     "iopub.execute_input": "2023-01-29T15:28:39.155154Z",
     "iopub.status.busy": "2023-01-29T15:28:39.154754Z",
     "iopub.status.idle": "2023-01-29T15:28:39.379336Z",
     "shell.execute_reply": "2023-01-29T15:28:39.376949Z"
    },
    "papermill": {
     "duration": 0.287871,
     "end_time": "2023-01-29T15:28:39.384666",
     "exception": false,
     "start_time": "2023-01-29T15:28:39.096795",
     "status": "completed"
    },
    "tags": []
   },
   "outputs": [
    {
     "name": "stdout",
     "output_type": "stream",
     "text": [
      "+-------------+------+-----+\n",
      "|DEPARTMENT_ID|SALARY|  SUM|\n",
      "+-------------+------+-----+\n",
      "|           10|  4400| 4400|\n",
      "|           20| 13000|13000|\n",
      "|           20|  6000|19000|\n",
      "|           30| 11000|11000|\n",
      "|           30|  3100|14100|\n",
      "|           30|  2900|17000|\n",
      "|           30|  2800|19800|\n",
      "|           30|  2600|22400|\n",
      "|           30|  2500|24900|\n",
      "|           40|  6500| 6500|\n",
      "+-------------+------+-----+\n",
      "only showing top 10 rows\n",
      "\n"
     ]
    }
   ],
   "source": [
    "\n",
    "empdf.withColumn(\"SUM\", sum(\"SALARY\").over(Window.partitionBy(\"DEPARTMENT_ID\").orderBy(col(\"SALARY\").desc()))).select(\"DEPARTMENT_ID\",\"SALARY\",\"SUM\").show(10)"
   ]
  },
  {
   "cell_type": "code",
   "execution_count": 69,
   "id": "1b95c2eb",
   "metadata": {
    "execution": {
     "iopub.execute_input": "2023-01-29T15:28:39.471580Z",
     "iopub.status.busy": "2023-01-29T15:28:39.471113Z",
     "iopub.status.idle": "2023-01-29T15:28:39.677936Z",
     "shell.execute_reply": "2023-01-29T15:28:39.676735Z"
    },
    "papermill": {
     "duration": 0.249865,
     "end_time": "2023-01-29T15:28:39.681803",
     "exception": false,
     "start_time": "2023-01-29T15:28:39.431938",
     "status": "completed"
    },
    "tags": []
   },
   "outputs": [
    {
     "name": "stdout",
     "output_type": "stream",
     "text": [
      "+-------------+------+-----+\n",
      "|DEPARTMENT_ID|SALARY|  SUM|\n",
      "+-------------+------+-----+\n",
      "|           10|  4400| 4400|\n",
      "|           20| 13000|19000|\n",
      "|           20|  6000|19000|\n",
      "|           30| 11000|24900|\n",
      "|           30|  3100|24900|\n",
      "|           30|  2900|24900|\n",
      "|           30|  2800|24900|\n",
      "|           30|  2600|24900|\n",
      "|           30|  2500|24900|\n",
      "|           40|  6500| 6500|\n",
      "|           50|  2600|85600|\n",
      "|           50|  2600|85600|\n",
      "|           50|  8000|85600|\n",
      "|           50|  8200|85600|\n",
      "|           50|  7900|85600|\n",
      "|           50|  6500|85600|\n",
      "|           50|  5800|85600|\n",
      "|           50|  3200|85600|\n",
      "|           50|  2700|85600|\n",
      "|           50|  2400|85600|\n",
      "|           50|  2200|85600|\n",
      "|           50|  3300|85600|\n",
      "|           50|  2800|85600|\n",
      "|           50|  2500|85600|\n",
      "|           50|  2100|85600|\n",
      "|           50|  3300|85600|\n",
      "|           50|  2900|85600|\n",
      "|           50|  2400|85600|\n",
      "|           50|  2200|85600|\n",
      "|           50|  3600|85600|\n",
      "|           50|  3200|85600|\n",
      "|           50|  2700|85600|\n",
      "|           50|  2500|85600|\n",
      "|           60|  9000|28800|\n",
      "|           60|  6000|28800|\n",
      "|           60|  4800|28800|\n",
      "|           60|  4800|28800|\n",
      "|           60|  4200|28800|\n",
      "|           70| 10000|10000|\n",
      "|           90| 24000|58000|\n",
      "|           90| 17000|58000|\n",
      "|           90| 17000|58000|\n",
      "|          100| 12008|51608|\n",
      "|          100|  9000|51608|\n",
      "|          100|  8200|51608|\n",
      "|          100|  7700|51608|\n",
      "|          100|  7800|51608|\n",
      "|          100|  6900|51608|\n",
      "|          110| 12008|20308|\n",
      "|          110|  8300|20308|\n",
      "+-------------+------+-----+\n",
      "\n"
     ]
    }
   ],
   "source": [
    "windowSpec = Window.partitionBy(\"DEPARTMENT_ID\")\n",
    "empdf.withColumn(\"SUM\", sum(\"SALARY\").over(windowSpec)).select(\"DEPARTMENT_ID\",\"SALARY\",\"SUM\").show(100)"
   ]
  },
  {
   "cell_type": "code",
   "execution_count": 70,
   "id": "850b01c8",
   "metadata": {
    "execution": {
     "iopub.execute_input": "2023-01-29T15:28:39.767702Z",
     "iopub.status.busy": "2023-01-29T15:28:39.767164Z",
     "iopub.status.idle": "2023-01-29T15:28:39.988844Z",
     "shell.execute_reply": "2023-01-29T15:28:39.986363Z"
    },
    "papermill": {
     "duration": 0.264968,
     "end_time": "2023-01-29T15:28:39.992618",
     "exception": false,
     "start_time": "2023-01-29T15:28:39.727650",
     "status": "completed"
    },
    "tags": []
   },
   "outputs": [
    {
     "name": "stdout",
     "output_type": "stream",
     "text": [
      "+-----------+-------------+----------------+\n",
      "|EMPLOYEE_ID|DEPARTMENT_ID| DEPARTMENT_NAME|\n",
      "+-----------+-------------+----------------+\n",
      "|        198|           50|        Shipping|\n",
      "|        199|           50|        Shipping|\n",
      "|        200|           10|  Administration|\n",
      "|        201|           20|       Marketing|\n",
      "|        202|           20|       Marketing|\n",
      "|        203|           40| Human Resources|\n",
      "|        204|           70|Public Relations|\n",
      "|        205|          110|      Accounting|\n",
      "|        206|          110|      Accounting|\n",
      "|        100|           90|       Executive|\n",
      "|        101|           90|       Executive|\n",
      "|        102|           90|       Executive|\n",
      "|        103|           60|              IT|\n",
      "|        104|           60|              IT|\n",
      "|        105|           60|              IT|\n",
      "|        106|           60|              IT|\n",
      "|        107|           60|              IT|\n",
      "|        108|          100|         Finance|\n",
      "|        109|          100|         Finance|\n",
      "|        110|          100|         Finance|\n",
      "|        111|          100|         Finance|\n",
      "|        112|          100|         Finance|\n",
      "|        113|          100|         Finance|\n",
      "|        114|           30|      Purchasing|\n",
      "|        115|           30|      Purchasing|\n",
      "|        116|           30|      Purchasing|\n",
      "|        117|           30|      Purchasing|\n",
      "|        118|           30|      Purchasing|\n",
      "|        119|           30|      Purchasing|\n",
      "|        120|           50|        Shipping|\n",
      "|        121|           50|        Shipping|\n",
      "|        122|           50|        Shipping|\n",
      "|        123|           50|        Shipping|\n",
      "|        124|           50|        Shipping|\n",
      "|        125|           50|        Shipping|\n",
      "|        126|           50|        Shipping|\n",
      "|        127|           50|        Shipping|\n",
      "|        128|           50|        Shipping|\n",
      "|        129|           50|        Shipping|\n",
      "|        130|           50|        Shipping|\n",
      "|        131|           50|        Shipping|\n",
      "|        132|           50|        Shipping|\n",
      "|        133|           50|        Shipping|\n",
      "|        134|           50|        Shipping|\n",
      "|        135|           50|        Shipping|\n",
      "|        136|           50|        Shipping|\n",
      "|        137|           50|        Shipping|\n",
      "|        138|           50|        Shipping|\n",
      "|        139|           50|        Shipping|\n",
      "|        140|           50|        Shipping|\n",
      "+-----------+-------------+----------------+\n",
      "\n"
     ]
    }
   ],
   "source": [
    "spark.conf.set(\"spark.sql.autoBroadcastJoinThreshold\", 104857600)\n",
    "empdf.join(broadcast(deptdf), empdf.DEPARTMENT_ID == deptdf.DEPARTMENT_ID, \"inner\").select(empdf.EMPLOYEE_ID, empdf.DEPARTMENT_ID, deptdf.DEPARTMENT_NAME).show(100)"
   ]
  },
  {
   "cell_type": "code",
   "execution_count": null,
   "id": "152db7d3",
   "metadata": {
    "papermill": {
     "duration": 0.037602,
     "end_time": "2023-01-29T15:28:40.071305",
     "exception": false,
     "start_time": "2023-01-29T15:28:40.033703",
     "status": "completed"
    },
    "tags": []
   },
   "outputs": [],
   "source": []
  },
  {
   "cell_type": "code",
   "execution_count": null,
   "id": "d8bd1f07",
   "metadata": {
    "papermill": {
     "duration": 0.037763,
     "end_time": "2023-01-29T15:28:40.148183",
     "exception": false,
     "start_time": "2023-01-29T15:28:40.110420",
     "status": "completed"
    },
    "tags": []
   },
   "outputs": [],
   "source": []
  }
 ],
 "metadata": {
  "kernelspec": {
   "display_name": "Python 3",
   "language": "python",
   "name": "python3"
  },
  "language_info": {
   "codemirror_mode": {
    "name": "ipython",
    "version": 3
   },
   "file_extension": ".py",
   "mimetype": "text/x-python",
   "name": "python",
   "nbconvert_exporter": "python",
   "pygments_lexer": "ipython3",
   "version": "3.7.12"
  },
  "papermill": {
   "default_parameters": {},
   "duration": 101.604256,
   "end_time": "2023-01-29T15:28:42.807703",
   "environment_variables": {},
   "exception": null,
   "input_path": "__notebook__.ipynb",
   "output_path": "__notebook__.ipynb",
   "parameters": {},
   "start_time": "2023-01-29T15:27:01.203447",
   "version": "2.3.4"
  }
 },
 "nbformat": 4,
 "nbformat_minor": 5
}
